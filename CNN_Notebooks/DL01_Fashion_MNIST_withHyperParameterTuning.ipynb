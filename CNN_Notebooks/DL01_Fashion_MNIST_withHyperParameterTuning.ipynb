{
  "nbformat": 4,
  "nbformat_minor": 0,
  "metadata": {
    "colab": {
      "name": "DL01_Fashion_MNIST_withHyperParameterTuning.ipynb",
      "provenance": []
    },
    "kernelspec": {
      "name": "python3",
      "display_name": "Python 3"
    },
    "accelerator": "GPU"
  },
  "cells": [
    {
      "cell_type": "markdown",
      "metadata": {
        "id": "ypQR6OiQPLvF"
      },
      "source": [
        "# Installing keras-tuner library for performing HyperParameter tuning: "
      ]
    },
    {
      "cell_type": "code",
      "metadata": {
        "id": "jEl2ldWwPJdO"
      },
      "source": [
        "!pip install keras-tuner"
      ],
      "execution_count": null,
      "outputs": []
    },
    {
      "cell_type": "markdown",
      "metadata": {
        "id": "VMwA4nB4Qf2U"
      },
      "source": [
        "# Importing Libraries:"
      ]
    },
    {
      "cell_type": "code",
      "metadata": {
        "id": "6qG5IiXXQKZt"
      },
      "source": [
        "import tensorflow as tf\r\n",
        "from tensorflow import keras\r\n",
        "import pandas as pd\r\n",
        "import numpy as np\r\n",
        "import matplotlib.pyplot as plt\r\n",
        "\r\n",
        "from tensorflow.keras import layers\r\n",
        "from kerastuner.tuners import RandomSearch"
      ],
      "execution_count": 2,
      "outputs": []
    },
    {
      "cell_type": "code",
      "metadata": {
        "colab": {
          "base_uri": "https://localhost:8080/"
        },
        "id": "1fuMziIEQ6pZ",
        "outputId": "612b30ad-b5df-4682-ac34-01ae72569dc6"
      },
      "source": [
        "print(tf.__version__)"
      ],
      "execution_count": 3,
      "outputs": [
        {
          "output_type": "stream",
          "text": [
            "2.4.0\n"
          ],
          "name": "stdout"
        }
      ]
    },
    {
      "cell_type": "markdown",
      "metadata": {
        "id": "sJWntm8VRFJW"
      },
      "source": [
        "# Loading Fashion_Mnist Dataset:"
      ]
    },
    {
      "cell_type": "code",
      "metadata": {
        "colab": {
          "base_uri": "https://localhost:8080/"
        },
        "id": "wNgvVB76RKa8",
        "outputId": "6cbd0de1-ff18-48e3-ac2f-bac3eccef9bd"
      },
      "source": [
        "dset = keras.datasets.fashion_mnist\r\n",
        "dset"
      ],
      "execution_count": 4,
      "outputs": [
        {
          "output_type": "execute_result",
          "data": {
            "text/plain": [
              "<module 'tensorflow.keras.datasets.fashion_mnist' from '/usr/local/lib/python3.6/dist-packages/tensorflow/keras/datasets/fashion_mnist/__init__.py'>"
            ]
          },
          "metadata": {
            "tags": []
          },
          "execution_count": 4
        }
      ]
    },
    {
      "cell_type": "markdown",
      "metadata": {
        "id": "DcR2Ye1uRaL-"
      },
      "source": [
        "# Splitting dset into train_dset and test_dset:"
      ]
    },
    {
      "cell_type": "code",
      "metadata": {
        "id": "f8ab9u2oRZBb"
      },
      "source": [
        "(X_train, y_train), (X_test, y_test) = dset.load_data()"
      ],
      "execution_count": 5,
      "outputs": []
    },
    {
      "cell_type": "code",
      "metadata": {
        "colab": {
          "base_uri": "https://localhost:8080/"
        },
        "id": "tn-OHghXSDKY",
        "outputId": "3966be75-a61b-44ff-ad08-8bffa5c0b85d"
      },
      "source": [
        "X_train, y_train"
      ],
      "execution_count": 6,
      "outputs": [
        {
          "output_type": "execute_result",
          "data": {
            "text/plain": [
              "(array([[[0, 0, 0, ..., 0, 0, 0],\n",
              "         [0, 0, 0, ..., 0, 0, 0],\n",
              "         [0, 0, 0, ..., 0, 0, 0],\n",
              "         ...,\n",
              "         [0, 0, 0, ..., 0, 0, 0],\n",
              "         [0, 0, 0, ..., 0, 0, 0],\n",
              "         [0, 0, 0, ..., 0, 0, 0]],\n",
              " \n",
              "        [[0, 0, 0, ..., 0, 0, 0],\n",
              "         [0, 0, 0, ..., 0, 0, 0],\n",
              "         [0, 0, 0, ..., 0, 0, 0],\n",
              "         ...,\n",
              "         [0, 0, 0, ..., 0, 0, 0],\n",
              "         [0, 0, 0, ..., 0, 0, 0],\n",
              "         [0, 0, 0, ..., 0, 0, 0]],\n",
              " \n",
              "        [[0, 0, 0, ..., 0, 0, 0],\n",
              "         [0, 0, 0, ..., 0, 0, 0],\n",
              "         [0, 0, 0, ..., 0, 0, 0],\n",
              "         ...,\n",
              "         [0, 0, 0, ..., 0, 0, 0],\n",
              "         [0, 0, 0, ..., 0, 0, 0],\n",
              "         [0, 0, 0, ..., 0, 0, 0]],\n",
              " \n",
              "        ...,\n",
              " \n",
              "        [[0, 0, 0, ..., 0, 0, 0],\n",
              "         [0, 0, 0, ..., 0, 0, 0],\n",
              "         [0, 0, 0, ..., 0, 0, 0],\n",
              "         ...,\n",
              "         [0, 0, 0, ..., 0, 0, 0],\n",
              "         [0, 0, 0, ..., 0, 0, 0],\n",
              "         [0, 0, 0, ..., 0, 0, 0]],\n",
              " \n",
              "        [[0, 0, 0, ..., 0, 0, 0],\n",
              "         [0, 0, 0, ..., 0, 0, 0],\n",
              "         [0, 0, 0, ..., 0, 0, 0],\n",
              "         ...,\n",
              "         [0, 0, 0, ..., 0, 0, 0],\n",
              "         [0, 0, 0, ..., 0, 0, 0],\n",
              "         [0, 0, 0, ..., 0, 0, 0]],\n",
              " \n",
              "        [[0, 0, 0, ..., 0, 0, 0],\n",
              "         [0, 0, 0, ..., 0, 0, 0],\n",
              "         [0, 0, 0, ..., 0, 0, 0],\n",
              "         ...,\n",
              "         [0, 0, 0, ..., 0, 0, 0],\n",
              "         [0, 0, 0, ..., 0, 0, 0],\n",
              "         [0, 0, 0, ..., 0, 0, 0]]], dtype=uint8),\n",
              " array([9, 0, 0, ..., 3, 0, 5], dtype=uint8))"
            ]
          },
          "metadata": {
            "tags": []
          },
          "execution_count": 6
        }
      ]
    },
    {
      "cell_type": "code",
      "metadata": {
        "colab": {
          "base_uri": "https://localhost:8080/"
        },
        "id": "bbqLhNUfSNck",
        "outputId": "2430053e-06ac-4c67-8512-3ba2305e4884"
      },
      "source": [
        "X_test, y_test"
      ],
      "execution_count": 7,
      "outputs": [
        {
          "output_type": "execute_result",
          "data": {
            "text/plain": [
              "(array([[[0, 0, 0, ..., 0, 0, 0],\n",
              "         [0, 0, 0, ..., 0, 0, 0],\n",
              "         [0, 0, 0, ..., 0, 0, 0],\n",
              "         ...,\n",
              "         [0, 0, 0, ..., 0, 0, 0],\n",
              "         [0, 0, 0, ..., 0, 0, 0],\n",
              "         [0, 0, 0, ..., 0, 0, 0]],\n",
              " \n",
              "        [[0, 0, 0, ..., 0, 0, 0],\n",
              "         [0, 0, 0, ..., 0, 0, 0],\n",
              "         [0, 0, 0, ..., 0, 0, 0],\n",
              "         ...,\n",
              "         [0, 0, 0, ..., 0, 0, 0],\n",
              "         [0, 0, 0, ..., 0, 0, 0],\n",
              "         [0, 0, 0, ..., 0, 0, 0]],\n",
              " \n",
              "        [[0, 0, 0, ..., 0, 0, 0],\n",
              "         [0, 0, 0, ..., 0, 0, 0],\n",
              "         [0, 0, 0, ..., 0, 0, 0],\n",
              "         ...,\n",
              "         [0, 0, 0, ..., 0, 0, 0],\n",
              "         [0, 0, 0, ..., 0, 0, 0],\n",
              "         [0, 0, 0, ..., 0, 0, 0]],\n",
              " \n",
              "        ...,\n",
              " \n",
              "        [[0, 0, 0, ..., 0, 0, 0],\n",
              "         [0, 0, 0, ..., 0, 0, 0],\n",
              "         [0, 0, 0, ..., 0, 0, 0],\n",
              "         ...,\n",
              "         [0, 0, 0, ..., 0, 0, 0],\n",
              "         [0, 0, 0, ..., 0, 0, 0],\n",
              "         [0, 0, 0, ..., 0, 0, 0]],\n",
              " \n",
              "        [[0, 0, 0, ..., 0, 0, 0],\n",
              "         [0, 0, 0, ..., 0, 0, 0],\n",
              "         [0, 0, 0, ..., 0, 0, 0],\n",
              "         ...,\n",
              "         [0, 0, 0, ..., 0, 0, 0],\n",
              "         [0, 0, 0, ..., 0, 0, 0],\n",
              "         [0, 0, 0, ..., 0, 0, 0]],\n",
              " \n",
              "        [[0, 0, 0, ..., 0, 0, 0],\n",
              "         [0, 0, 0, ..., 0, 0, 0],\n",
              "         [0, 0, 0, ..., 0, 0, 0],\n",
              "         ...,\n",
              "         [0, 0, 0, ..., 0, 0, 0],\n",
              "         [0, 0, 0, ..., 0, 0, 0],\n",
              "         [0, 0, 0, ..., 0, 0, 0]]], dtype=uint8),\n",
              " array([9, 2, 1, ..., 8, 1, 5], dtype=uint8))"
            ]
          },
          "metadata": {
            "tags": []
          },
          "execution_count": 7
        }
      ]
    },
    {
      "cell_type": "markdown",
      "metadata": {
        "id": "94X9FnYWSTJl"
      },
      "source": [
        "# Image Data Preprocessing:"
      ]
    },
    {
      "cell_type": "code",
      "metadata": {
        "id": "0irstkp5S7Mr"
      },
      "source": [
        "# scaling images to fall in range of (0 to 255):\r\n",
        "X_train = X_train/255.0\r\n",
        "X_test = X_test/255.0\r\n",
        "\r\n",
        "# reshaping images:\r\n",
        "X_train = X_train.reshape(len(X_train), 28, 28, 1)\r\n",
        "X_test = X_test.reshape(len(X_test), 28, 28, 1)"
      ],
      "execution_count": 8,
      "outputs": []
    },
    {
      "cell_type": "markdown",
      "metadata": {
        "id": "gTLURBf603oh"
      },
      "source": [
        "# Define fxn build_cnn for building diff cnns:"
      ]
    },
    {
      "cell_type": "code",
      "metadata": {
        "id": "eobHlIVp1Ea4"
      },
      "source": [
        "def build_cnn(hp):\r\n",
        "\r\n",
        "    cnn = keras.Sequential()\r\n",
        "    \r\n",
        "    # 1st conv2D layer:\r\n",
        "    cnn.add(keras.layers.Conv2D(\r\n",
        "        filters=hp.Int(\r\n",
        "            'Conv2D_L1_Filter', min_value=32, max_value=128, step=16 ),\r\n",
        "        kernel_size=hp.Choice(\r\n",
        "            'kernel_01', values=[3,5] ),\r\n",
        "        activation='relu',\r\n",
        "        input_shape=(28,28,1),\r\n",
        "    ))\r\n",
        "\r\n",
        "    # 2nd conv2D layer:\r\n",
        "    cnn.add(keras.layers.Conv2D(\r\n",
        "        filters=hp.Int(\r\n",
        "            'Conv2D_L2_Filter', min_value=32, max_value=64, step=16 ),\r\n",
        "        kernel_size=hp.Choice(\r\n",
        "            'kernel_02', values=[3,5] ),\r\n",
        "        activation='relu'\r\n",
        "    ))\r\n",
        "\r\n",
        "    # Flatten Layer:\r\n",
        "    cnn.add(keras.layers.Flatten())\r\n",
        "\r\n",
        "    # 1st Dense Layer:\r\n",
        "    cnn.add(keras.layers.Dense(\r\n",
        "        hp.Int(\r\n",
        "            'Dense_01',\r\n",
        "            min_value=32,\r\n",
        "            max_value=128,\r\n",
        "        ),\r\n",
        "        activation='relu'\r\n",
        "    ))\r\n",
        "\r\n",
        "    # 2nd Dense Layer / Output Layer:\r\n",
        "    cnn.add(keras.layers.Dense(\r\n",
        "        10, # 10 neurons for 10 fashion items/labels in Fashion_mnist dset.\r\n",
        "        activation='softmax'\r\n",
        "        ))\r\n",
        "    \r\n",
        "    \r\n",
        "    # compiling the cnn model.\r\n",
        "    cnn.compile(\r\n",
        "        optimizer=keras.optimizers.Adam(\r\n",
        "            hp.Choice('learning_rate',\r\n",
        "                      values=[1e-2, 1e-3, 1e-4])),\r\n",
        "        loss='sparse_categorical_crossentropy',\r\n",
        "        metrics=['accuracy'])\r\n",
        "    \r\n",
        "    return cnn"
      ],
      "execution_count": 9,
      "outputs": []
    },
    {
      "cell_type": "markdown",
      "metadata": {
        "id": "17clgfabDiSd"
      },
      "source": [
        "# Create tuner using keras's RandomSearch that can try out diff hyperParameter combinations "
      ]
    },
    {
      "cell_type": "code",
      "metadata": {
        "colab": {
          "base_uri": "https://localhost:8080/"
        },
        "id": "YbkiO9EU8zFq",
        "outputId": "0a8a5d69-9031-4297-959c-bb53536f628c"
      },
      "source": [
        "# build the tuner that can try out diff combinations of hyperParameters:\r\n",
        "from kerastuner import RandomSearch\r\n",
        "\r\n",
        "tuner = RandomSearch(\r\n",
        "    build_cnn, # fxn_name\r\n",
        "    objective='val_accuracy',\r\n",
        "    max_trials=5,\r\n",
        "    directory='output',\r\n",
        "    project_name='fashion_mnist')"
      ],
      "execution_count": 10,
      "outputs": [
        {
          "output_type": "stream",
          "text": [
            "INFO:tensorflow:Reloading Oracle from existing project output/fashion_mnist/oracle.json\n",
            "INFO:tensorflow:Reloading Tuner from output/fashion_mnist/tuner0.json\n"
          ],
          "name": "stdout"
        }
      ]
    },
    {
      "cell_type": "code",
      "metadata": {
        "colab": {
          "base_uri": "https://localhost:8080/"
        },
        "id": "EFpgKb5f98Oy",
        "outputId": "2f712f64-3d1a-44d0-8714-b8288a72e8a4"
      },
      "source": [
        "# print the summary of the search space:\r\n",
        "tuner.search_space_summary()"
      ],
      "execution_count": 11,
      "outputs": [
        {
          "output_type": "stream",
          "text": [
            "Search space summary\n",
            "Default search space size: 6\n",
            "Conv2D_L1_Filter (Int)\n",
            "{'default': None, 'conditions': [], 'min_value': 32, 'max_value': 128, 'step': 16, 'sampling': None}\n",
            "kernel_01 (Choice)\n",
            "{'default': 3, 'conditions': [], 'values': [3, 5], 'ordered': True}\n",
            "Conv2D_L2_Filter (Int)\n",
            "{'default': None, 'conditions': [], 'min_value': 32, 'max_value': 64, 'step': 16, 'sampling': None}\n",
            "kernel_02 (Choice)\n",
            "{'default': 3, 'conditions': [], 'values': [3, 5], 'ordered': True}\n",
            "Dense_01 (Int)\n",
            "{'default': None, 'conditions': [], 'min_value': 32, 'max_value': 64, 'step': 1, 'sampling': None}\n",
            "learning_rate (Choice)\n",
            "{'default': 0.01, 'conditions': [], 'values': [0.01, 0.001, 0.0001], 'ordered': True}\n"
          ],
          "name": "stdout"
        }
      ]
    },
    {
      "cell_type": "markdown",
      "metadata": {
        "id": "WRDd34LRD2x2"
      },
      "source": [
        "# Perform the search() on tuner:"
      ]
    },
    {
      "cell_type": "code",
      "metadata": {
        "colab": {
          "base_uri": "https://localhost:8080/"
        },
        "id": "KHTsY2wT-Z7n",
        "outputId": "37f3eec8-1750-4d1c-cda3-c6bc16b123b3"
      },
      "source": [
        "# search for the best hyperParameters:\r\n",
        "\r\n",
        "tuner.search(X_train, y_train,\r\n",
        "             epochs=5,\r\n",
        "             validation_split=0.1)"
      ],
      "execution_count": 12,
      "outputs": [
        {
          "output_type": "stream",
          "text": [
            "INFO:tensorflow:Oracle triggered exit\n"
          ],
          "name": "stdout"
        }
      ]
    },
    {
      "cell_type": "markdown",
      "metadata": {
        "id": "aqIYIcMpEKlu"
      },
      "source": [
        "# Find the best performing CNN:"
      ]
    },
    {
      "cell_type": "code",
      "metadata": {
        "colab": {
          "base_uri": "https://localhost:8080/"
        },
        "id": "IK_9iuomASj7",
        "outputId": "afa46f4f-7a38-425d-e305-5bcbf6819d97"
      },
      "source": [
        "# print the top 1st performing best model:\r\n",
        "top_cnn = tuner.get_best_models(num_models=1)[0]\r\n",
        "print(top_cnn)\r\n",
        "\r\n",
        "\r\n",
        "# get tuner-results summary:\r\n",
        "tuner.results_summary()"
      ],
      "execution_count": 13,
      "outputs": [
        {
          "output_type": "stream",
          "text": [
            "<tensorflow.python.keras.engine.sequential.Sequential object at 0x7fe5dc7609e8>\n",
            "Results summary\n",
            "Results in output/fashion_mnist\n",
            "Showing 10 best trials\n",
            "Objective(name='val_accuracy', direction='max')\n",
            "Trial summary\n",
            "Hyperparameters:\n",
            "Conv2D_L1_Filter: 32\n",
            "kernel_01: 3\n",
            "Conv2D_L2_Filter: 64\n",
            "kernel_02: 5\n",
            "Dense_01: 51\n",
            "learning_rate: 0.001\n",
            "Score: 0.9139999747276306\n",
            "Trial summary\n",
            "Hyperparameters:\n",
            "Conv2D_L1_Filter: 112\n",
            "kernel_01: 3\n",
            "Conv2D_L2_Filter: 32\n",
            "kernel_02: 3\n",
            "Dense_01: 44\n",
            "learning_rate: 0.0001\n",
            "Score: 0.8944166898727417\n",
            "Trial summary\n",
            "Hyperparameters:\n",
            "Conv2D_L1_Filter: 64\n",
            "kernel_01: 3\n",
            "Conv2D_L2_Filter: 64\n",
            "kernel_02: 3\n",
            "Dense_01: 51\n",
            "learning_rate: 0.0001\n",
            "Score: 0.893916666507721\n",
            "Trial summary\n",
            "Hyperparameters:\n",
            "Conv2D_L1_Filter: 64\n",
            "kernel_01: 5\n",
            "Conv2D_L2_Filter: 48\n",
            "kernel_02: 5\n",
            "Dense_01: 52\n",
            "learning_rate: 0.0001\n",
            "Score: 0.8930000066757202\n",
            "Trial summary\n",
            "Hyperparameters:\n",
            "Conv2D_L1_Filter: 32\n",
            "kernel_01: 3\n",
            "Conv2D_L2_Filter: 48\n",
            "kernel_02: 3\n",
            "Dense_01: 59\n",
            "learning_rate: 0.01\n",
            "Score: 0.8832499980926514\n"
          ],
          "name": "stdout"
        }
      ]
    },
    {
      "cell_type": "markdown",
      "metadata": {
        "id": "WDGLSWF5EVv3"
      },
      "source": [
        "# Lets fit the train_dset to the best performing CNN:"
      ]
    },
    {
      "cell_type": "code",
      "metadata": {
        "colab": {
          "base_uri": "https://localhost:8080/"
        },
        "id": "llTEZHETEeEw",
        "outputId": "5b6a147e-c28e-43c6-f24f-f67849f5a80f"
      },
      "source": [
        "top_cnn.fit(X_train, y_train, epochs=20, validation_split=0.1, initial_epoch=5)"
      ],
      "execution_count": 14,
      "outputs": [
        {
          "output_type": "stream",
          "text": [
            "Epoch 6/20\n",
            "1688/1688 [==============================] - 9s 4ms/step - loss: 0.1277 - accuracy: 0.9536 - val_loss: 0.2800 - val_accuracy: 0.9163\n",
            "Epoch 7/20\n",
            "1688/1688 [==============================] - 6s 3ms/step - loss: 0.0849 - accuracy: 0.9694 - val_loss: 0.2929 - val_accuracy: 0.9142\n",
            "Epoch 8/20\n",
            "1688/1688 [==============================] - 6s 3ms/step - loss: 0.0567 - accuracy: 0.9790 - val_loss: 0.3794 - val_accuracy: 0.9115\n",
            "Epoch 9/20\n",
            "1688/1688 [==============================] - 6s 3ms/step - loss: 0.0416 - accuracy: 0.9855 - val_loss: 0.3739 - val_accuracy: 0.9123\n",
            "Epoch 10/20\n",
            "1688/1688 [==============================] - 6s 3ms/step - loss: 0.0311 - accuracy: 0.9895 - val_loss: 0.4614 - val_accuracy: 0.9115\n",
            "Epoch 11/20\n",
            "1688/1688 [==============================] - 6s 3ms/step - loss: 0.0245 - accuracy: 0.9912 - val_loss: 0.4441 - val_accuracy: 0.9098\n",
            "Epoch 12/20\n",
            "1688/1688 [==============================] - 6s 3ms/step - loss: 0.0245 - accuracy: 0.9913 - val_loss: 0.4819 - val_accuracy: 0.9137\n",
            "Epoch 13/20\n",
            "1688/1688 [==============================] - 6s 3ms/step - loss: 0.0183 - accuracy: 0.9935 - val_loss: 0.5724 - val_accuracy: 0.9107\n",
            "Epoch 14/20\n",
            "1688/1688 [==============================] - 6s 3ms/step - loss: 0.0203 - accuracy: 0.9932 - val_loss: 0.5664 - val_accuracy: 0.9103\n",
            "Epoch 15/20\n",
            "1688/1688 [==============================] - 6s 3ms/step - loss: 0.0146 - accuracy: 0.9953 - val_loss: 0.6176 - val_accuracy: 0.9088\n",
            "Epoch 16/20\n",
            "1688/1688 [==============================] - 6s 4ms/step - loss: 0.0171 - accuracy: 0.9944 - val_loss: 0.6653 - val_accuracy: 0.9120\n",
            "Epoch 17/20\n",
            "1688/1688 [==============================] - 6s 4ms/step - loss: 0.0122 - accuracy: 0.9954 - val_loss: 0.7096 - val_accuracy: 0.9138\n",
            "Epoch 18/20\n",
            "1688/1688 [==============================] - 6s 3ms/step - loss: 0.0158 - accuracy: 0.9946 - val_loss: 0.6593 - val_accuracy: 0.9130\n",
            "Epoch 19/20\n",
            "1688/1688 [==============================] - 6s 3ms/step - loss: 0.0142 - accuracy: 0.9954 - val_loss: 0.7406 - val_accuracy: 0.9137\n",
            "Epoch 20/20\n",
            "1688/1688 [==============================] - 6s 3ms/step - loss: 0.0100 - accuracy: 0.9965 - val_loss: 0.7295 - val_accuracy: 0.9105\n"
          ],
          "name": "stdout"
        },
        {
          "output_type": "execute_result",
          "data": {
            "text/plain": [
              "<tensorflow.python.keras.callbacks.History at 0x7fe5c03e3630>"
            ]
          },
          "metadata": {
            "tags": []
          },
          "execution_count": 14
        }
      ]
    },
    {
      "cell_type": "markdown",
      "metadata": {
        "id": "nJPA2_OUJAJo"
      },
      "source": [
        "# Make a new Prediction:"
      ]
    },
    {
      "cell_type": "code",
      "metadata": {
        "colab": {
          "base_uri": "https://localhost:8080/"
        },
        "id": "1q9BQR1CJDyp",
        "outputId": "c5a517e8-68a2-4065-ab0f-ad6f2cd9de61"
      },
      "source": [
        "from keras.preprocessing import image\r\n",
        "\r\n",
        "class_names = [\"T-shirt/top\", \"Trouser\", \"Pullover\", \"Dress\", \"Coat\", \"Sandal\", \"Shirt\", \"Sneaker\", \"Bag\", \"Ankle boot\"]\r\n",
        "\r\n",
        "img_test = X_test[:5]\r\n",
        "y_pred = top_cnn.predict_classes(img_test)\r\n",
        "# print(y_pred)\r\n",
        "print(\"Cnn's predicted Labels: \\n\",np.array(class_names)[y_pred])\r\n",
        "\r\n",
        "print(\"True Labels: \\n\",np.array(class_names)[y_test[:5]])"
      ],
      "execution_count": 15,
      "outputs": [
        {
          "output_type": "stream",
          "text": [
            "Cnn's predicted Labels: \n",
            " ['Ankle boot' 'Pullover' 'Trouser' 'Trouser' 'Shirt']\n",
            "True Labels: \n",
            " ['Ankle boot' 'Pullover' 'Trouser' 'Trouser' 'Shirt']\n"
          ],
          "name": "stdout"
        },
        {
          "output_type": "stream",
          "text": [
            "/usr/local/lib/python3.6/dist-packages/tensorflow/python/keras/engine/sequential.py:450: UserWarning: `model.predict_classes()` is deprecated and will be removed after 2021-01-01. Please use instead:* `np.argmax(model.predict(x), axis=-1)`,   if your model does multi-class classification   (e.g. if it uses a `softmax` last-layer activation).* `(model.predict(x) > 0.5).astype(\"int32\")`,   if your model does binary classification   (e.g. if it uses a `sigmoid` last-layer activation).\n",
            "  warnings.warn('`model.predict_classes()` is deprecated and '\n"
          ],
          "name": "stderr"
        }
      ]
    }
  ]
}