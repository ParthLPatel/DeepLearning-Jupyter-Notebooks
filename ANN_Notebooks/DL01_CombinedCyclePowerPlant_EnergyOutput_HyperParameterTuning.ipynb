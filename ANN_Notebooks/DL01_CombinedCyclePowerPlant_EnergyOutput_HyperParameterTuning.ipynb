{
  "nbformat": 4,
  "nbformat_minor": 0,
  "metadata": {
    "colab": {
      "name": "DL01_CombinedCyclePowerPlant_EnergyOutput_HyperParameterTuning.ipynb",
      "provenance": [],
      "collapsed_sections": []
    },
    "kernelspec": {
      "display_name": "Python 3",
      "name": "python3"
    },
    "accelerator": "GPU"
  },
  "cells": [
    {
      "cell_type": "markdown",
      "metadata": {
        "id": "3cbb7fRy-eyr"
      },
      "source": [
        "# Artificial Neural Network"
      ]
    },
    {
      "cell_type": "markdown",
      "metadata": {
        "id": "8sNDnxE2-pwE"
      },
      "source": [
        "### Importing the libraries"
      ]
    },
    {
      "cell_type": "code",
      "metadata": {
        "id": "qzNpBC91KxQ2"
      },
      "source": [
        "import pandas as pd\r\n",
        "import numpy as np\r\n",
        "import matplotlib.pyplot as plt\r\n",
        "import tensorflow as tf\r\n",
        "from tensorflow import keras\r\n"
      ],
      "execution_count": 1,
      "outputs": []
    },
    {
      "cell_type": "markdown",
      "metadata": {
        "id": "AG3FQEch-yuA"
      },
      "source": [
        "## Part 1 - Data Preprocessing"
      ]
    },
    {
      "cell_type": "markdown",
      "metadata": {
        "id": "-4zq8Mza_D9O"
      },
      "source": [
        "### Importing the dataset"
      ]
    },
    {
      "cell_type": "code",
      "metadata": {
        "id": "LG90orOlLAA9"
      },
      "source": [
        "dset = pd.read_excel('Folds5x2_pp.xlsx')\r\n",
        "X = dset.iloc[:,:-1].values\r\n",
        "y = dset.iloc[:,-1].values"
      ],
      "execution_count": 2,
      "outputs": []
    },
    {
      "cell_type": "code",
      "metadata": {
        "id": "PtzDrTHmLwmL",
        "colab": {
          "base_uri": "https://localhost:8080/"
        },
        "outputId": "df12efb5-f8bf-4663-8e2c-3db29fdf9d93"
      },
      "source": [
        "X, y"
      ],
      "execution_count": 3,
      "outputs": [
        {
          "output_type": "execute_result",
          "data": {
            "text/plain": [
              "(array([[  14.96,   41.76, 1024.07,   73.17],\n",
              "        [  25.18,   62.96, 1020.04,   59.08],\n",
              "        [   5.11,   39.4 , 1012.16,   92.14],\n",
              "        ...,\n",
              "        [  31.32,   74.33, 1012.92,   36.48],\n",
              "        [  24.48,   69.45, 1013.86,   62.39],\n",
              "        [  21.6 ,   62.52, 1017.23,   67.87]]),\n",
              " array([463.26, 444.37, 488.56, ..., 429.57, 435.74, 453.28]))"
            ]
          },
          "metadata": {
            "tags": []
          },
          "execution_count": 3
        }
      ]
    },
    {
      "cell_type": "markdown",
      "metadata": {
        "id": "VC6omXel_Up0"
      },
      "source": [
        "### Splitting the dataset into the Training set and Test set"
      ]
    },
    {
      "cell_type": "code",
      "metadata": {
        "id": "8T9c85TgL0St"
      },
      "source": [
        "from sklearn.model_selection import train_test_split\r\n",
        "X_train, X_test, y_train, y_test = train_test_split(X, y, test_size=0.2, random_state=0)"
      ],
      "execution_count": 4,
      "outputs": []
    },
    {
      "cell_type": "code",
      "metadata": {
        "colab": {
          "base_uri": "https://localhost:8080/"
        },
        "id": "zm0gSJI9MMXe",
        "outputId": "8de60099-a33b-460b-9dc2-106566e7aa43"
      },
      "source": [
        "X_train, y_train"
      ],
      "execution_count": 5,
      "outputs": [
        {
          "output_type": "execute_result",
          "data": {
            "text/plain": [
              "(array([[  11.22,   43.13, 1017.24,   80.9 ],\n",
              "        [  13.67,   54.3 , 1015.92,   75.42],\n",
              "        [  32.84,   77.95, 1014.68,   45.8 ],\n",
              "        ...,\n",
              "        [  16.81,   38.52, 1018.26,   75.21],\n",
              "        [  12.8 ,   41.16, 1022.43,   86.19],\n",
              "        [  32.32,   67.9 , 1006.08,   37.93]]),\n",
              " array([473.93, 467.87, 431.97, ..., 459.01, 462.72, 428.12]))"
            ]
          },
          "metadata": {
            "tags": []
          },
          "execution_count": 5
        }
      ]
    },
    {
      "cell_type": "code",
      "metadata": {
        "colab": {
          "base_uri": "https://localhost:8080/"
        },
        "id": "ndkYhEOKMQL-",
        "outputId": "31a0a8fd-9476-4e5c-9468-37c28421ed4c"
      },
      "source": [
        "X_test, y_test"
      ],
      "execution_count": 6,
      "outputs": [
        {
          "output_type": "execute_result",
          "data": {
            "text/plain": [
              "(array([[  28.66,   77.95, 1009.56,   69.07],\n",
              "        [  17.48,   49.39, 1021.51,   84.53],\n",
              "        [  14.86,   43.14, 1019.21,   99.14],\n",
              "        ...,\n",
              "        [  12.24,   44.92, 1023.74,   88.21],\n",
              "        [  27.28,   47.93, 1003.46,   59.22],\n",
              "        [  17.28,   39.99, 1007.09,   74.25]]),\n",
              " array([431.23, 460.01, 461.14, ..., 473.26, 438.  , 463.28]))"
            ]
          },
          "metadata": {
            "tags": []
          },
          "execution_count": 6
        }
      ]
    },
    {
      "cell_type": "markdown",
      "metadata": {
        "id": "s-Of7-9_QONd"
      },
      "source": [
        "### Feature Scaling:"
      ]
    },
    {
      "cell_type": "code",
      "metadata": {
        "id": "Io-sjnilQVop"
      },
      "source": [
        "from sklearn.preprocessing import StandardScaler\r\n",
        "sc = StandardScaler()\r\n",
        "\r\n",
        "X_train = sc.fit_transform(X_train)\r\n",
        "X_test = sc.transform(X_test)"
      ],
      "execution_count": 7,
      "outputs": []
    },
    {
      "cell_type": "markdown",
      "metadata": {
        "id": "_mSLlAT9_eyI"
      },
      "source": [
        "## Part 2 - Defining the build_ann that builds diff ANN with diff combinations of hyperParameters:"
      ]
    },
    {
      "cell_type": "markdown",
      "metadata": {
        "id": "jtL2JHhjePoG"
      },
      "source": [
        "### importing necessary libraries:"
      ]
    },
    {
      "cell_type": "code",
      "metadata": {
        "id": "ZQ_-31kqeD5s"
      },
      "source": [
        "from sklearn.model_selection import GridSearchCV\r\n",
        "\r\n",
        "from keras.wrappers.scikit_learn import KerasRegressor\r\n",
        "from keras.models import Sequential\r\n",
        "from keras.layers import Dense, Activation, Flatten, Embedding, LeakyReLU, BatchNormalization, Dropout\r\n",
        "from keras.activations import relu, sigmoid"
      ],
      "execution_count": 8,
      "outputs": []
    },
    {
      "cell_type": "markdown",
      "metadata": {
        "id": "qckitJPHeWin"
      },
      "source": [
        "### Defining create_ann that will build diff ANNs with diff combinations of hyperParameters:"
      ]
    },
    {
      "cell_type": "code",
      "metadata": {
        "id": "dK_WkZbCekuk"
      },
      "source": [
        "def create_ann(layers, activation):\r\n",
        "  ann = Sequential()\r\n",
        "\r\n",
        "  for i,nodes in enumerate(layers):\r\n",
        "    if i == 0: # adds Input layer and 1st Hidden Layer \r\n",
        "      ann.add(Dense(nodes, input_dim=X_train.shape[1]))\r\n",
        "      ann.add(Activation(activation))\r\n",
        "      ann.add(Dropout(0.3))\r\n",
        "    else: # adds further Hidden Layers as specified\r\n",
        "      ann.add(Dense(nodes))\r\n",
        "      ann.add(Activation(activation))\r\n",
        "      ann.add(Dropout(0.3))\r\n",
        "    \r\n",
        "  # add Output Layer:\r\n",
        "  ann.add(Dense(\r\n",
        "        units=1, # output neuron\r\n",
        "        activation='linear' \r\n",
        "        ))\r\n",
        "    \r\n",
        "  # Compiling ANN:\r\n",
        "  ann.compile(\r\n",
        "      optimizer='adam',\r\n",
        "      loss='mse',\r\n",
        "      metrics=['mse']\r\n",
        "  )\r\n",
        "\r\n",
        "  # return ann:\r\n",
        "  return ann"
      ],
      "execution_count": 9,
      "outputs": []
    },
    {
      "cell_type": "markdown",
      "metadata": {
        "id": "JAq0Gu8Fe-Th"
      },
      "source": [
        "### Calling create_ann() with diff combinations of hyperParameters:"
      ]
    },
    {
      "cell_type": "code",
      "metadata": {
        "id": "3MpNtnVHfC8f"
      },
      "source": [
        "ann = KerasRegressor(build_fn=create_ann, verbose=0)\r\n",
        "\r\n",
        "# params:\r\n",
        "layers = [(10,), (20,),]\r\n",
        "activation = ['sigmoid', 'relu']\r\n",
        "batch_sizes = [32, 64, ]\r\n",
        "no_epochs = [\r\n",
        "  \r\n",
        "  \r\n",
        "  \r\n",
        "  \r\n",
        "  \r\n",
        "  -\r\n",
        "  hyper50, 100,]\r\n",
        "\r\n",
        "params_dict = dict(layers=layers, \r\n",
        "                   activation=activation,\r\n",
        "                   batch_size=batch_sizes,\r\n",
        "                   epochs=no_epochs\r\n",
        "                   )\r\n",
        "\r\n",
        "grid = GridSearchCV(estimator=ann,\r\n",
        "                    param_grid=params_dict,\r\n",
        "                    cv=5\r\n",
        "                    )\r\n",
        "\r\n",
        "\r\n",
        "grid_result = grid.fit(X_train, y_train)"
      ],
      "execution_count": null,
      "outputs": []
    },
    {
      "cell_type": "markdown",
      "metadata": {
        "id": "YZZFksfufslp"
      },
      "source": [
        "### GridSearch best Results:"
      ]
    },
    {
      "cell_type": "code",
      "metadata": {
        "id": "WFAMXYXthBRK"
      },
      "source": [
        "# GridSearchCV 's best Results:\r\n",
        "\r\n",
        "print(\"Best Score: \",grid_result.best_score_)\r\n",
        "print(\"Best Params: \",grid_result.best_params_)"
      ],
      "execution_count": null,
      "outputs": []
    },
    {
      "cell_type": "markdown",
      "metadata": {
        "id": "0H0zKKNEBLD5"
      },
      "source": [
        "### Predicting the results of the Grid Results:"
      ]
    },
    {
      "cell_type": "code",
      "metadata": {
        "id": "HDjtaWA4ToRS"
      },
      "source": [
        "y_pred = ann.predict(X_test)\r\n",
        "np.set_printoptions(precision=2)\r\n",
        "print(\r\n",
        "    np.concatenate((y_pred.reshape(len(y_pred),1), y_test.reshape(len(y_test),1)), 1)\r\n",
        ")\r\n",
        "\r\n",
        "# confusion matrix and accuracy:\r\n",
        "\r\n",
        "from sklearn.metrics import confusion_matrix, accuracy_score\r\n",
        "cm = confusion_matrix(y_pred, y_test)\r\n",
        "print(cm)\r\n",
        "\r\n",
        "accu_score = accuracy_score(y_pred, y_test)\r\n",
        "print(accu_score)"
      ],
      "execution_count": null,
      "outputs": []
    }
  ]
}