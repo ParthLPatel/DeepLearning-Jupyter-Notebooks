{
  "nbformat": 4,
  "nbformat_minor": 0,
  "metadata": {
    "colab": {
      "name": "DL01_CombinedCyclePowerPlant_EnergyOutput",
      "provenance": [],
      "collapsed_sections": []
    },
    "kernelspec": {
      "name": "python3",
      "display_name": "Python 3"
    },
    "accelerator": "GPU"
  },
  "cells": [
    {
      "cell_type": "markdown",
      "metadata": {
        "id": "3cbb7fRy-eyr"
      },
      "source": [
        "# Artificial Neural Network"
      ]
    },
    {
      "cell_type": "markdown",
      "metadata": {
        "id": "8sNDnxE2-pwE"
      },
      "source": [
        "### Importing the libraries"
      ]
    },
    {
      "cell_type": "code",
      "metadata": {
        "id": "qzNpBC91KxQ2"
      },
      "source": [
        "import pandas as pd\r\n",
        "import numpy as np\r\n",
        "import matplotlib.pyplot as plt\r\n",
        "import tensorflow as tf\r\n",
        "from tensorflow import keras\r\n"
      ],
      "execution_count": 100,
      "outputs": []
    },
    {
      "cell_type": "markdown",
      "metadata": {
        "id": "AG3FQEch-yuA"
      },
      "source": [
        "## Part 1 - Data Preprocessing"
      ]
    },
    {
      "cell_type": "markdown",
      "metadata": {
        "id": "-4zq8Mza_D9O"
      },
      "source": [
        "### Importing the dataset"
      ]
    },
    {
      "cell_type": "code",
      "metadata": {
        "id": "LG90orOlLAA9"
      },
      "source": [
        "dset = pd.read_excel('Folds5x2_pp.xlsx')\r\n",
        "X = dset.iloc[:,:-1].values\r\n",
        "y = dset.iloc[:,-1].values"
      ],
      "execution_count": 101,
      "outputs": []
    },
    {
      "cell_type": "code",
      "metadata": {
        "colab": {
          "base_uri": "https://localhost:8080/"
        },
        "id": "PtzDrTHmLwmL",
        "outputId": "1cabef37-44e3-431c-e6d6-d0a1ea80fe68"
      },
      "source": [
        "X, y"
      ],
      "execution_count": 102,
      "outputs": [
        {
          "output_type": "execute_result",
          "data": {
            "text/plain": [
              "(array([[  14.96,   41.76, 1024.07,   73.17],\n",
              "        [  25.18,   62.96, 1020.04,   59.08],\n",
              "        [   5.11,   39.4 , 1012.16,   92.14],\n",
              "        ...,\n",
              "        [  31.32,   74.33, 1012.92,   36.48],\n",
              "        [  24.48,   69.45, 1013.86,   62.39],\n",
              "        [  21.6 ,   62.52, 1017.23,   67.87]]),\n",
              " array([463.26, 444.37, 488.56, ..., 429.57, 435.74, 453.28]))"
            ]
          },
          "metadata": {
            "tags": []
          },
          "execution_count": 102
        }
      ]
    },
    {
      "cell_type": "markdown",
      "metadata": {
        "id": "VC6omXel_Up0"
      },
      "source": [
        "### Splitting the dataset into the Training set and Test set"
      ]
    },
    {
      "cell_type": "code",
      "metadata": {
        "id": "8T9c85TgL0St"
      },
      "source": [
        "from sklearn.model_selection import train_test_split\r\n",
        "X_train, X_test, y_train, y_test = train_test_split(X, y, test_size=0.2, random_state=0)"
      ],
      "execution_count": 103,
      "outputs": []
    },
    {
      "cell_type": "code",
      "metadata": {
        "colab": {
          "base_uri": "https://localhost:8080/"
        },
        "id": "zm0gSJI9MMXe",
        "outputId": "3edd2ee5-e8ab-499f-9c9d-cfc8b8299aeb"
      },
      "source": [
        "X_train, y_train"
      ],
      "execution_count": 104,
      "outputs": [
        {
          "output_type": "execute_result",
          "data": {
            "text/plain": [
              "(array([[  11.22,   43.13, 1017.24,   80.9 ],\n",
              "        [  13.67,   54.3 , 1015.92,   75.42],\n",
              "        [  32.84,   77.95, 1014.68,   45.8 ],\n",
              "        ...,\n",
              "        [  16.81,   38.52, 1018.26,   75.21],\n",
              "        [  12.8 ,   41.16, 1022.43,   86.19],\n",
              "        [  32.32,   67.9 , 1006.08,   37.93]]),\n",
              " array([473.93, 467.87, 431.97, ..., 459.01, 462.72, 428.12]))"
            ]
          },
          "metadata": {
            "tags": []
          },
          "execution_count": 104
        }
      ]
    },
    {
      "cell_type": "code",
      "metadata": {
        "colab": {
          "base_uri": "https://localhost:8080/"
        },
        "id": "ndkYhEOKMQL-",
        "outputId": "f9ede9c4-46b5-4e3d-e018-75a86b822360"
      },
      "source": [
        "X_test, y_test"
      ],
      "execution_count": 105,
      "outputs": [
        {
          "output_type": "execute_result",
          "data": {
            "text/plain": [
              "(array([[  28.66,   77.95, 1009.56,   69.07],\n",
              "        [  17.48,   49.39, 1021.51,   84.53],\n",
              "        [  14.86,   43.14, 1019.21,   99.14],\n",
              "        ...,\n",
              "        [  12.24,   44.92, 1023.74,   88.21],\n",
              "        [  27.28,   47.93, 1003.46,   59.22],\n",
              "        [  17.28,   39.99, 1007.09,   74.25]]),\n",
              " array([431.23, 460.01, 461.14, ..., 473.26, 438.  , 463.28]))"
            ]
          },
          "metadata": {
            "tags": []
          },
          "execution_count": 105
        }
      ]
    },
    {
      "cell_type": "markdown",
      "metadata": {
        "id": "s-Of7-9_QONd"
      },
      "source": [
        "### Feature Scaling:"
      ]
    },
    {
      "cell_type": "code",
      "metadata": {
        "id": "Io-sjnilQVop"
      },
      "source": [
        "from sklearn.preprocessing import StandardScaler\r\n",
        "sc = StandardScaler()\r\n",
        "\r\n",
        "X_train = sc.fit_transform(X_train)\r\n",
        "X_test = sc.transform(X_test)"
      ],
      "execution_count": 106,
      "outputs": []
    },
    {
      "cell_type": "markdown",
      "metadata": {
        "id": "_mSLlAT9_eyI"
      },
      "source": [
        "## Part 2 - Building the ANN"
      ]
    },
    {
      "cell_type": "markdown",
      "metadata": {
        "id": "CsBULd_f_wLY"
      },
      "source": [
        "### Initializing the ANN"
      ]
    },
    {
      "cell_type": "code",
      "metadata": {
        "id": "kbjfGgLPMVdO"
      },
      "source": [
        "ann = keras.models.Sequential()"
      ],
      "execution_count": 107,
      "outputs": []
    },
    {
      "cell_type": "markdown",
      "metadata": {
        "id": "iitAFJS_ABUn"
      },
      "source": [
        "### Adding the input layer and the first hidden layer"
      ]
    },
    {
      "cell_type": "code",
      "metadata": {
        "id": "7KG_YbXmMdQf"
      },
      "source": [
        "ann.add(keras.layers.Dense(\r\n",
        "    6, # 6 output neurons\r\n",
        "    activation='relu',\r\n",
        "    kernel_initializer='he_uniform',\r\n",
        "    input_shape=X_train.shape[1:] # input will be dset_features/cols\r\n",
        "))"
      ],
      "execution_count": 108,
      "outputs": []
    },
    {
      "cell_type": "markdown",
      "metadata": {
        "id": "-lb4kK_wAKbs"
      },
      "source": [
        "### Adding the second hidden layer"
      ]
    },
    {
      "cell_type": "code",
      "metadata": {
        "id": "3hz9sGR6OMkh"
      },
      "source": [
        "ann.add(keras.layers.Dense(\r\n",
        "    6, # 6 output neurons\r\n",
        "    kernel_initializer='he_uniform',\r\n",
        "    activation='relu',\r\n",
        "))"
      ],
      "execution_count": 109,
      "outputs": []
    },
    {
      "cell_type": "markdown",
      "metadata": {
        "id": "jwMOmKb3AdBY"
      },
      "source": [
        "### Adding the output layer"
      ]
    },
    {
      "cell_type": "code",
      "metadata": {
        "id": "NdIkle5zOXUW"
      },
      "source": [
        "ann.add(keras.layers.Dense(\r\n",
        "    1, # 1 output neuron\r\n",
        "    activation='linear', # 'linear' as its a regression problem\r\n",
        "))"
      ],
      "execution_count": 110,
      "outputs": []
    },
    {
      "cell_type": "markdown",
      "metadata": {
        "id": "fq7e4fF6A1yy"
      },
      "source": [
        "## Part 3 - Training the ANN"
      ]
    },
    {
      "cell_type": "markdown",
      "metadata": {
        "id": "qDeylAs2An25"
      },
      "source": [
        "### Compiling the ANN"
      ]
    },
    {
      "cell_type": "code",
      "metadata": {
        "id": "HW-4ThJMOi2f"
      },
      "source": [
        "ann.compile(\r\n",
        "    optimizer='adam',\r\n",
        "    loss='mean_squared_error',\r\n",
        "    metrics=['mse'],\r\n",
        ")"
      ],
      "execution_count": 111,
      "outputs": []
    },
    {
      "cell_type": "markdown",
      "metadata": {
        "id": "YjVuiybYOo7r"
      },
      "source": [
        "### Training the ANN model on the Training set"
      ]
    },
    {
      "cell_type": "code",
      "metadata": {
        "colab": {
          "base_uri": "https://localhost:8080/"
        },
        "id": "jVwZotkCO5jP",
        "outputId": "10edf635-b1d4-47c4-e1f7-c528014c3541"
      },
      "source": [
        "ann_history = ann.fit(\r\n",
        "    X_train, y_train, \r\n",
        "    batch_size=32,\r\n",
        "    epochs=100,\r\n",
        "    validation_split=0.2\r\n",
        ")"
      ],
      "execution_count": 112,
      "outputs": [
        {
          "output_type": "stream",
          "text": [
            "Epoch 1/100\n",
            "192/192 [==============================] - 1s 3ms/step - loss: 207111.2281 - mse: 207111.2281 - val_loss: 205842.5469 - val_mse: 205842.5469\n",
            "Epoch 2/100\n",
            "192/192 [==============================] - 0s 2ms/step - loss: 205335.7210 - mse: 205335.7210 - val_loss: 202292.7969 - val_mse: 202292.7969\n",
            "Epoch 3/100\n",
            "192/192 [==============================] - 1s 3ms/step - loss: 200758.8825 - mse: 200758.8825 - val_loss: 191450.6719 - val_mse: 191450.6719\n",
            "Epoch 4/100\n",
            "192/192 [==============================] - 0s 2ms/step - loss: 186059.7379 - mse: 186059.7379 - val_loss: 164292.3125 - val_mse: 164292.3125\n",
            "Epoch 5/100\n",
            "192/192 [==============================] - 0s 2ms/step - loss: 154291.7575 - mse: 154291.7575 - val_loss: 121708.9766 - val_mse: 121708.9766\n",
            "Epoch 6/100\n",
            "192/192 [==============================] - 0s 2ms/step - loss: 109780.7445 - mse: 109780.7445 - val_loss: 78070.9375 - val_mse: 78070.9375\n",
            "Epoch 7/100\n",
            "192/192 [==============================] - 0s 2ms/step - loss: 68849.8783 - mse: 68849.8783 - val_loss: 46359.5938 - val_mse: 46359.5938\n",
            "Epoch 8/100\n",
            "192/192 [==============================] - 0s 2ms/step - loss: 40237.0033 - mse: 40237.0033 - val_loss: 28188.8730 - val_mse: 28188.8730\n",
            "Epoch 9/100\n",
            "192/192 [==============================] - 0s 2ms/step - loss: 25987.2851 - mse: 25987.2851 - val_loss: 18289.5527 - val_mse: 18289.5527\n",
            "Epoch 10/100\n",
            "192/192 [==============================] - 0s 2ms/step - loss: 16798.0975 - mse: 16798.0975 - val_loss: 12598.3174 - val_mse: 12598.3174\n",
            "Epoch 11/100\n",
            "192/192 [==============================] - 0s 2ms/step - loss: 12132.2689 - mse: 12132.2689 - val_loss: 9148.8887 - val_mse: 9148.8887\n",
            "Epoch 12/100\n",
            "192/192 [==============================] - 0s 2ms/step - loss: 8890.3895 - mse: 8890.3895 - val_loss: 6855.4658 - val_mse: 6855.4658\n",
            "Epoch 13/100\n",
            "192/192 [==============================] - 1s 3ms/step - loss: 6735.8888 - mse: 6735.8888 - val_loss: 5244.8115 - val_mse: 5244.8115\n",
            "Epoch 14/100\n",
            "192/192 [==============================] - 0s 2ms/step - loss: 5140.5057 - mse: 5140.5057 - val_loss: 4056.5076 - val_mse: 4056.5076\n",
            "Epoch 15/100\n",
            "192/192 [==============================] - 0s 3ms/step - loss: 3944.9690 - mse: 3944.9690 - val_loss: 3158.8838 - val_mse: 3158.8838\n",
            "Epoch 16/100\n",
            "192/192 [==============================] - 1s 3ms/step - loss: 3074.2997 - mse: 3074.2997 - val_loss: 2478.8455 - val_mse: 2478.8455\n",
            "Epoch 17/100\n",
            "192/192 [==============================] - 0s 2ms/step - loss: 2395.1837 - mse: 2395.1837 - val_loss: 1966.7534 - val_mse: 1966.7534\n",
            "Epoch 18/100\n",
            "192/192 [==============================] - 0s 2ms/step - loss: 1969.5767 - mse: 1969.5767 - val_loss: 1568.2969 - val_mse: 1568.2969\n",
            "Epoch 19/100\n",
            "192/192 [==============================] - 0s 2ms/step - loss: 1624.7219 - mse: 1624.7219 - val_loss: 1260.1394 - val_mse: 1260.1394\n",
            "Epoch 20/100\n",
            "192/192 [==============================] - 0s 2ms/step - loss: 1322.1025 - mse: 1322.1025 - val_loss: 1021.2297 - val_mse: 1021.2297\n",
            "Epoch 21/100\n",
            "192/192 [==============================] - 0s 2ms/step - loss: 1087.2794 - mse: 1087.2794 - val_loss: 835.0729 - val_mse: 835.0729\n",
            "Epoch 22/100\n",
            "192/192 [==============================] - 0s 2ms/step - loss: 911.1817 - mse: 911.1817 - val_loss: 684.5025 - val_mse: 684.5025\n",
            "Epoch 23/100\n",
            "192/192 [==============================] - 0s 2ms/step - loss: 720.0620 - mse: 720.0620 - val_loss: 562.3474 - val_mse: 562.3474\n",
            "Epoch 24/100\n",
            "192/192 [==============================] - 0s 2ms/step - loss: 597.3817 - mse: 597.3817 - val_loss: 464.2685 - val_mse: 464.2685\n",
            "Epoch 25/100\n",
            "192/192 [==============================] - 0s 2ms/step - loss: 518.8480 - mse: 518.8480 - val_loss: 386.0352 - val_mse: 386.0352\n",
            "Epoch 26/100\n",
            "192/192 [==============================] - 0s 2ms/step - loss: 415.1574 - mse: 415.1574 - val_loss: 322.5723 - val_mse: 322.5723\n",
            "Epoch 27/100\n",
            "192/192 [==============================] - 0s 2ms/step - loss: 358.0163 - mse: 358.0163 - val_loss: 272.6491 - val_mse: 272.6491\n",
            "Epoch 28/100\n",
            "192/192 [==============================] - 0s 2ms/step - loss: 297.5661 - mse: 297.5661 - val_loss: 232.5919 - val_mse: 232.5919\n",
            "Epoch 29/100\n",
            "192/192 [==============================] - 0s 2ms/step - loss: 263.1318 - mse: 263.1318 - val_loss: 198.7610 - val_mse: 198.7610\n",
            "Epoch 30/100\n",
            "192/192 [==============================] - 0s 2ms/step - loss: 225.6409 - mse: 225.6409 - val_loss: 172.6172 - val_mse: 172.6172\n",
            "Epoch 31/100\n",
            "192/192 [==============================] - 0s 2ms/step - loss: 202.9897 - mse: 202.9897 - val_loss: 147.3728 - val_mse: 147.3728\n",
            "Epoch 32/100\n",
            "192/192 [==============================] - 0s 2ms/step - loss: 171.6615 - mse: 171.6615 - val_loss: 126.3806 - val_mse: 126.3806\n",
            "Epoch 33/100\n",
            "192/192 [==============================] - 0s 2ms/step - loss: 140.6563 - mse: 140.6563 - val_loss: 108.8359 - val_mse: 108.8359\n",
            "Epoch 34/100\n",
            "192/192 [==============================] - 0s 2ms/step - loss: 124.3075 - mse: 124.3075 - val_loss: 94.3717 - val_mse: 94.3717\n",
            "Epoch 35/100\n",
            "192/192 [==============================] - 0s 2ms/step - loss: 109.8048 - mse: 109.8048 - val_loss: 80.8928 - val_mse: 80.8928\n",
            "Epoch 36/100\n",
            "192/192 [==============================] - 0s 2ms/step - loss: 96.6809 - mse: 96.6809 - val_loss: 69.2667 - val_mse: 69.2667\n",
            "Epoch 37/100\n",
            "192/192 [==============================] - 0s 3ms/step - loss: 82.7015 - mse: 82.7015 - val_loss: 60.2158 - val_mse: 60.2158\n",
            "Epoch 38/100\n",
            "192/192 [==============================] - 0s 2ms/step - loss: 73.1096 - mse: 73.1096 - val_loss: 52.7889 - val_mse: 52.7889\n",
            "Epoch 39/100\n",
            "192/192 [==============================] - 0s 3ms/step - loss: 65.5271 - mse: 65.5271 - val_loss: 46.2984 - val_mse: 46.2984\n",
            "Epoch 40/100\n",
            "192/192 [==============================] - 0s 2ms/step - loss: 60.0276 - mse: 60.0276 - val_loss: 40.9523 - val_mse: 40.9523\n",
            "Epoch 41/100\n",
            "192/192 [==============================] - 0s 2ms/step - loss: 43.5603 - mse: 43.5603 - val_loss: 36.3781 - val_mse: 36.3781\n",
            "Epoch 42/100\n",
            "192/192 [==============================] - 0s 2ms/step - loss: 43.6081 - mse: 43.6081 - val_loss: 32.8918 - val_mse: 32.8918\n",
            "Epoch 43/100\n",
            "192/192 [==============================] - 0s 2ms/step - loss: 39.6217 - mse: 39.6217 - val_loss: 30.1631 - val_mse: 30.1631\n",
            "Epoch 44/100\n",
            "192/192 [==============================] - 0s 2ms/step - loss: 34.9149 - mse: 34.9149 - val_loss: 28.9565 - val_mse: 28.9565\n",
            "Epoch 45/100\n",
            "192/192 [==============================] - 0s 2ms/step - loss: 32.8224 - mse: 32.8224 - val_loss: 27.0075 - val_mse: 27.0075\n",
            "Epoch 46/100\n",
            "192/192 [==============================] - 0s 2ms/step - loss: 32.2395 - mse: 32.2395 - val_loss: 25.9626 - val_mse: 25.9626\n",
            "Epoch 47/100\n",
            "192/192 [==============================] - 0s 2ms/step - loss: 33.3464 - mse: 33.3464 - val_loss: 25.2065 - val_mse: 25.2065\n",
            "Epoch 48/100\n",
            "192/192 [==============================] - 0s 2ms/step - loss: 28.9144 - mse: 28.9144 - val_loss: 25.0147 - val_mse: 25.0147\n",
            "Epoch 49/100\n",
            "192/192 [==============================] - 0s 2ms/step - loss: 27.2087 - mse: 27.2087 - val_loss: 24.3516 - val_mse: 24.3516\n",
            "Epoch 50/100\n",
            "192/192 [==============================] - 0s 2ms/step - loss: 25.9128 - mse: 25.9128 - val_loss: 23.8101 - val_mse: 23.8101\n",
            "Epoch 51/100\n",
            "192/192 [==============================] - 0s 2ms/step - loss: 26.0715 - mse: 26.0715 - val_loss: 23.3431 - val_mse: 23.3431\n",
            "Epoch 52/100\n",
            "192/192 [==============================] - 1s 3ms/step - loss: 24.9441 - mse: 24.9441 - val_loss: 23.1063 - val_mse: 23.1063\n",
            "Epoch 53/100\n",
            "192/192 [==============================] - 0s 2ms/step - loss: 24.9620 - mse: 24.9620 - val_loss: 23.0556 - val_mse: 23.0556\n",
            "Epoch 54/100\n",
            "192/192 [==============================] - 0s 2ms/step - loss: 22.2087 - mse: 22.2087 - val_loss: 22.8020 - val_mse: 22.8020\n",
            "Epoch 55/100\n",
            "192/192 [==============================] - 0s 2ms/step - loss: 24.0347 - mse: 24.0347 - val_loss: 22.5162 - val_mse: 22.5162\n",
            "Epoch 56/100\n",
            "192/192 [==============================] - 0s 2ms/step - loss: 23.9879 - mse: 23.9879 - val_loss: 22.6630 - val_mse: 22.6630\n",
            "Epoch 57/100\n",
            "192/192 [==============================] - 0s 2ms/step - loss: 22.3877 - mse: 22.3877 - val_loss: 22.3286 - val_mse: 22.3286\n",
            "Epoch 58/100\n",
            "192/192 [==============================] - 0s 2ms/step - loss: 22.0465 - mse: 22.0465 - val_loss: 22.5722 - val_mse: 22.5722\n",
            "Epoch 59/100\n",
            "192/192 [==============================] - 0s 3ms/step - loss: 22.6571 - mse: 22.6571 - val_loss: 22.5062 - val_mse: 22.5062\n",
            "Epoch 60/100\n",
            "192/192 [==============================] - 0s 2ms/step - loss: 22.1281 - mse: 22.1281 - val_loss: 22.4808 - val_mse: 22.4808\n",
            "Epoch 61/100\n",
            "192/192 [==============================] - 0s 2ms/step - loss: 22.2698 - mse: 22.2698 - val_loss: 22.1375 - val_mse: 22.1375\n",
            "Epoch 62/100\n",
            "192/192 [==============================] - 0s 2ms/step - loss: 22.1388 - mse: 22.1388 - val_loss: 22.4332 - val_mse: 22.4332\n",
            "Epoch 63/100\n",
            "192/192 [==============================] - 0s 2ms/step - loss: 21.3150 - mse: 21.3150 - val_loss: 22.2007 - val_mse: 22.2007\n",
            "Epoch 64/100\n",
            "192/192 [==============================] - 0s 2ms/step - loss: 21.6638 - mse: 21.6638 - val_loss: 22.0908 - val_mse: 22.0908\n",
            "Epoch 65/100\n",
            "192/192 [==============================] - 0s 2ms/step - loss: 20.5798 - mse: 20.5798 - val_loss: 22.1806 - val_mse: 22.1806\n",
            "Epoch 66/100\n",
            "192/192 [==============================] - 0s 2ms/step - loss: 21.6137 - mse: 21.6137 - val_loss: 22.0647 - val_mse: 22.0647\n",
            "Epoch 67/100\n",
            "192/192 [==============================] - 0s 2ms/step - loss: 22.6534 - mse: 22.6534 - val_loss: 22.1156 - val_mse: 22.1156\n",
            "Epoch 68/100\n",
            "192/192 [==============================] - 0s 2ms/step - loss: 21.5680 - mse: 21.5680 - val_loss: 22.8618 - val_mse: 22.8618\n",
            "Epoch 69/100\n",
            "192/192 [==============================] - 0s 2ms/step - loss: 20.3733 - mse: 20.3733 - val_loss: 21.8880 - val_mse: 21.8880\n",
            "Epoch 70/100\n",
            "192/192 [==============================] - 0s 2ms/step - loss: 22.3596 - mse: 22.3596 - val_loss: 21.8893 - val_mse: 21.8893\n",
            "Epoch 71/100\n",
            "192/192 [==============================] - 0s 2ms/step - loss: 20.7967 - mse: 20.7967 - val_loss: 22.1071 - val_mse: 22.1071\n",
            "Epoch 72/100\n",
            "192/192 [==============================] - 0s 2ms/step - loss: 21.6410 - mse: 21.6410 - val_loss: 22.1190 - val_mse: 22.1190\n",
            "Epoch 73/100\n",
            "192/192 [==============================] - 0s 2ms/step - loss: 21.0754 - mse: 21.0754 - val_loss: 21.7922 - val_mse: 21.7922\n",
            "Epoch 74/100\n",
            "192/192 [==============================] - 0s 2ms/step - loss: 20.5086 - mse: 20.5086 - val_loss: 21.9093 - val_mse: 21.9093\n",
            "Epoch 75/100\n",
            "192/192 [==============================] - 0s 2ms/step - loss: 22.2466 - mse: 22.2466 - val_loss: 21.9296 - val_mse: 21.9296\n",
            "Epoch 76/100\n",
            "192/192 [==============================] - 0s 2ms/step - loss: 21.5605 - mse: 21.5605 - val_loss: 22.2670 - val_mse: 22.2670\n",
            "Epoch 77/100\n",
            "192/192 [==============================] - 1s 3ms/step - loss: 23.1620 - mse: 23.1620 - val_loss: 21.7694 - val_mse: 21.7694\n",
            "Epoch 78/100\n",
            "192/192 [==============================] - 0s 2ms/step - loss: 20.7180 - mse: 20.7180 - val_loss: 21.7606 - val_mse: 21.7606\n",
            "Epoch 79/100\n",
            "192/192 [==============================] - 0s 2ms/step - loss: 20.5820 - mse: 20.5820 - val_loss: 22.3437 - val_mse: 22.3437\n",
            "Epoch 80/100\n",
            "192/192 [==============================] - 0s 2ms/step - loss: 22.4795 - mse: 22.4795 - val_loss: 22.1133 - val_mse: 22.1133\n",
            "Epoch 81/100\n",
            "192/192 [==============================] - 0s 2ms/step - loss: 21.4239 - mse: 21.4239 - val_loss: 21.9176 - val_mse: 21.9176\n",
            "Epoch 82/100\n",
            "192/192 [==============================] - 0s 2ms/step - loss: 21.1880 - mse: 21.1880 - val_loss: 21.7840 - val_mse: 21.7840\n",
            "Epoch 83/100\n",
            "192/192 [==============================] - 0s 2ms/step - loss: 21.7057 - mse: 21.7057 - val_loss: 21.9124 - val_mse: 21.9124\n",
            "Epoch 84/100\n",
            "192/192 [==============================] - 0s 3ms/step - loss: 20.6821 - mse: 20.6821 - val_loss: 22.7385 - val_mse: 22.7385\n",
            "Epoch 85/100\n",
            "192/192 [==============================] - 0s 3ms/step - loss: 21.1031 - mse: 21.1031 - val_loss: 21.8649 - val_mse: 21.8649\n",
            "Epoch 86/100\n",
            "192/192 [==============================] - 1s 3ms/step - loss: 22.4369 - mse: 22.4369 - val_loss: 21.8514 - val_mse: 21.8514\n",
            "Epoch 87/100\n",
            "192/192 [==============================] - 0s 2ms/step - loss: 21.2990 - mse: 21.2990 - val_loss: 22.0751 - val_mse: 22.0751\n",
            "Epoch 88/100\n",
            "192/192 [==============================] - 0s 2ms/step - loss: 20.7728 - mse: 20.7728 - val_loss: 21.9215 - val_mse: 21.9215\n",
            "Epoch 89/100\n",
            "192/192 [==============================] - 0s 2ms/step - loss: 20.7676 - mse: 20.7676 - val_loss: 22.3768 - val_mse: 22.3768\n",
            "Epoch 90/100\n",
            "192/192 [==============================] - 0s 2ms/step - loss: 21.5493 - mse: 21.5493 - val_loss: 22.3966 - val_mse: 22.3966\n",
            "Epoch 91/100\n",
            "192/192 [==============================] - 0s 2ms/step - loss: 21.0282 - mse: 21.0282 - val_loss: 22.0056 - val_mse: 22.0056\n",
            "Epoch 92/100\n",
            "192/192 [==============================] - 0s 2ms/step - loss: 20.3408 - mse: 20.3408 - val_loss: 22.6804 - val_mse: 22.6804\n",
            "Epoch 93/100\n",
            "192/192 [==============================] - 1s 3ms/step - loss: 21.8367 - mse: 21.8367 - val_loss: 21.7743 - val_mse: 21.7743\n",
            "Epoch 94/100\n",
            "192/192 [==============================] - 1s 3ms/step - loss: 21.0585 - mse: 21.0585 - val_loss: 21.9049 - val_mse: 21.9049\n",
            "Epoch 95/100\n",
            "192/192 [==============================] - 1s 3ms/step - loss: 21.1929 - mse: 21.1929 - val_loss: 21.9989 - val_mse: 21.9989\n",
            "Epoch 96/100\n",
            "192/192 [==============================] - 0s 2ms/step - loss: 20.5975 - mse: 20.5975 - val_loss: 22.0270 - val_mse: 22.0270\n",
            "Epoch 97/100\n",
            "192/192 [==============================] - 0s 2ms/step - loss: 21.6662 - mse: 21.6662 - val_loss: 21.8265 - val_mse: 21.8265\n",
            "Epoch 98/100\n",
            "192/192 [==============================] - 1s 3ms/step - loss: 20.0840 - mse: 20.0840 - val_loss: 22.6959 - val_mse: 22.6959\n",
            "Epoch 99/100\n",
            "192/192 [==============================] - 1s 3ms/step - loss: 22.2624 - mse: 22.2624 - val_loss: 22.3081 - val_mse: 22.3081\n",
            "Epoch 100/100\n",
            "192/192 [==============================] - 1s 3ms/step - loss: 21.3547 - mse: 21.3547 - val_loss: 22.6972 - val_mse: 22.6972\n"
          ],
          "name": "stdout"
        }
      ]
    },
    {
      "cell_type": "markdown",
      "metadata": {
        "id": "0H0zKKNEBLD5"
      },
      "source": [
        "### Predicting the results of the Test set"
      ]
    },
    {
      "cell_type": "code",
      "metadata": {
        "colab": {
          "base_uri": "https://localhost:8080/"
        },
        "id": "HDjtaWA4ToRS",
        "outputId": "e1787eca-de23-4222-9da1-049b3e132b6c"
      },
      "source": [
        "y_pred = ann.predict(X_test)\r\n",
        "np.set_printoptions(precision=2)\r\n",
        "print(\r\n",
        "    np.concatenate((y_pred.reshape(len(y_pred),1), y_test.reshape(len(y_test),1)), 1)\r\n",
        ")"
      ],
      "execution_count": 113,
      "outputs": [
        {
          "output_type": "stream",
          "text": [
            "[[430.93 431.23]\n",
            " [456.99 460.01]\n",
            " [461.03 461.14]\n",
            " ...\n",
            " [467.74 473.26]\n",
            " [442.53 438.  ]\n",
            " [461.48 463.28]]\n"
          ],
          "name": "stdout"
        }
      ]
    },
    {
      "cell_type": "markdown",
      "metadata": {
        "id": "uhYHmNB6XMBk"
      },
      "source": [
        "# Visualize:"
      ]
    },
    {
      "cell_type": "code",
      "metadata": {
        "colab": {
          "base_uri": "https://localhost:8080/"
        },
        "id": "Vl4yN6J-XOWN",
        "outputId": "a8cc040f-c8c8-49fc-d16c-37b547c06d86"
      },
      "source": [
        "ann_history.history.keys()"
      ],
      "execution_count": 114,
      "outputs": [
        {
          "output_type": "execute_result",
          "data": {
            "text/plain": [
              "dict_keys(['loss', 'mse', 'val_loss', 'val_mse'])"
            ]
          },
          "metadata": {
            "tags": []
          },
          "execution_count": 114
        }
      ]
    },
    {
      "cell_type": "code",
      "metadata": {
        "colab": {
          "base_uri": "https://localhost:8080/",
          "height": 573
        },
        "id": "BkSpAaNGXpQf",
        "outputId": "fb4f3fef-339b-495f-8ae6-e4efd12b909f"
      },
      "source": [
        "# ANN MODEL LOSS:\r\n",
        "plt.plot(ann_history.history['loss'])\r\n",
        "plt.plot(ann_history.history['val_loss'])\r\n",
        "plt.legend(['train_loss','val_loss'])\r\n",
        "plt.title('ANN_Model Loss')\r\n",
        "plt.xlabel('Epochs')\r\n",
        "plt.ylabel('Loss')\r\n",
        "plt.show()\r\n",
        "\r\n",
        "# ANN MODEL MeanSquaredError:\r\n",
        "plt.plot(ann_history.history['mse'])\r\n",
        "plt.plot(ann_history.history['val_mse'])\r\n",
        "plt.legend(['train_mse','val_mse'])\r\n",
        "plt.title('ANN_Model MeanSquaredError')\r\n",
        "plt.xlabel('Epochs')\r\n",
        "plt.ylabel('MeanSquaredError')\r\n",
        "plt.show()"
      ],
      "execution_count": 115,
      "outputs": [
        {
          "output_type": "display_data",
          "data": {
            "image/png": "[encoded data removed]",
            "text/plain": [
              "<Figure size 432x288 with 1 Axes>"
            ]
          },
          "metadata": {
            "tags": [],
            "needs_background": "light"
          }
        },
        {
          "output_type": "display_data",
          "data": {
            "image/png": "[encoded data removed]",
            "text/plain": [
              "<Figure size 432x288 with 1 Axes>"
            ]
          },
          "metadata": {
            "tags": [],
            "needs_background": "light"
          }
        }
      ]
    }
  ]
}