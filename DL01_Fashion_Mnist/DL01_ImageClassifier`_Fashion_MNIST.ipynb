{
  "nbformat": 4,
  "nbformat_minor": 0,
  "metadata": {
    "colab": {
      "name": "DL01_ImageClassifier`_Fashion_MNIST.ipynb",
      "provenance": [],
      "collapsed_sections": []
    },
    "kernelspec": {
      "name": "python3",
      "display_name": "Python 3"
    }
  },
  "cells": [
    {
      "cell_type": "markdown",
      "metadata": {
        "id": "5Wj_FjVNjv0N"
      },
      "source": [
        "# IMPORT THE LIBRARIES"
      ]
    },
    {
      "cell_type": "code",
      "metadata": {
        "id": "ncnL0Tdjj2qt"
      },
      "source": [
        "import tensorflow as tf\r\n",
        "from tensorflow import keras"
      ],
      "execution_count": 27,
      "outputs": []
    },
    {
      "cell_type": "code",
      "metadata": {
        "colab": {
          "base_uri": "https://localhost:8080/"
        },
        "id": "HDZl-IINkt09",
        "outputId": "9cb65743-5c48-46ff-a2fe-13e7084f938d"
      },
      "source": [
        "# checkinh their versions:\r\n",
        "print(tf.__version__)\r\n",
        "print(keras.__version__)"
      ],
      "execution_count": 28,
      "outputs": [
        {
          "output_type": "stream",
          "text": [
            "2.4.0\n",
            "2.4.0\n"
          ],
          "name": "stdout"
        }
      ]
    },
    {
      "cell_type": "markdown",
      "metadata": {
        "id": "3bTowv8nleki"
      },
      "source": [
        "#Loading the dataset using the keras library:"
      ]
    },
    {
      "cell_type": "code",
      "metadata": {
        "id": "beDbt4Tik9rd"
      },
      "source": [
        "fashion_mnist = keras.datasets.fashion_mnist\r\n",
        "(X_train_full, y_train_full), (X_test, y_test) = fashion_mnist.load_data()"
      ],
      "execution_count": 29,
      "outputs": []
    },
    {
      "cell_type": "markdown",
      "metadata": {
        "id": "KxibPYl9nvUq"
      },
      "source": [
        "###know the shape and datatype of the training data"
      ]
    },
    {
      "cell_type": "code",
      "metadata": {
        "colab": {
          "base_uri": "https://localhost:8080/"
        },
        "id": "-9AZqw0JnYpD",
        "outputId": "76d47d46-f20b-4470-d53a-71ae96d4c60e"
      },
      "source": [
        "X_train_full.shape # outputs (60000, 28, 28) means it has 60000 images , each img of dimension (28-height*28-width)"
      ],
      "execution_count": 30,
      "outputs": [
        {
          "output_type": "execute_result",
          "data": {
            "text/plain": [
              "(60000, 28, 28)"
            ]
          },
          "metadata": {
            "tags": []
          },
          "execution_count": 30
        }
      ]
    },
    {
      "cell_type": "code",
      "metadata": {
        "colab": {
          "base_uri": "https://localhost:8080/"
        },
        "id": "tMX_ytj7ogc4",
        "outputId": "16b7268b-143c-4cc0-a3a9-7f60e08ea365"
      },
      "source": [
        "X_train_full.dtype # outputs int datatype, rather then float."
      ],
      "execution_count": 31,
      "outputs": [
        {
          "output_type": "execute_result",
          "data": {
            "text/plain": [
              "dtype('uint8')"
            ]
          },
          "metadata": {
            "tags": []
          },
          "execution_count": 31
        }
      ]
    },
    {
      "cell_type": "markdown",
      "metadata": {
        "id": "9hE9kj8CouGC"
      },
      "source": [
        "# Creating a Valid_dset, note: train_full-dset and test_full_dset already exists"
      ]
    },
    {
      "cell_type": "markdown",
      "metadata": {
        "id": "55tQAxfTqycd"
      },
      "source": [
        "#### First create a train_dset from X_train_full"
      ]
    },
    {
      "cell_type": "code",
      "metadata": {
        "id": "KqOk6FUiq_5e"
      },
      "source": [
        "X_train = X_train_full[5000:]/255.0  # dividing by 255.0 scales values btw (0,1) and typecast value to float.\r\n",
        "y_train = y_train_full[5000:] # y_train contains labels."
      ],
      "execution_count": 32,
      "outputs": []
    },
    {
      "cell_type": "markdown",
      "metadata": {
        "id": "lOsVqaQrrfR5"
      },
      "source": [
        "#### Create valid_dset from X_train_full, and also scale and typecast values."
      ]
    },
    {
      "cell_type": "code",
      "metadata": {
        "id": "ImYAR50Ho4r8"
      },
      "source": [
        "X_valid = X_train_full[:5000]/255.0\r\n",
        "y_valid = y_train_full[:5000]"
      ],
      "execution_count": 33,
      "outputs": []
    },
    {
      "cell_type": "markdown",
      "metadata": {
        "id": "Y1d_-4Sjsbz_"
      },
      "source": [
        "#### Creating class_names to know for fashion items , that we are dealing with "
      ]
    },
    {
      "cell_type": "code",
      "metadata": {
        "id": "taQYnUDqslht"
      },
      "source": [
        "class_names = [\"T-shirt/top\", \"Trouser\", \"Pullover\", \"Dress\", \"Coat\", \"Sandal\", \"Shirt\", \"Sneaker\", \"Bag\", \"Ankle boot\"]"
      ],
      "execution_count": 34,
      "outputs": []
    },
    {
      "cell_type": "code",
      "metadata": {
        "colab": {
          "base_uri": "https://localhost:8080/",
          "height": 35
        },
        "id": "5dj7o2ILtk1R",
        "outputId": "9897a42c-e491-4116-b2a6-3023b344698c"
      },
      "source": [
        "# y_train[0] -> return a fashion item label index   \r\n",
        "class_names[y_train[0]] "
      ],
      "execution_count": 35,
      "outputs": [
        {
          "output_type": "execute_result",
          "data": {
            "application/vnd.google.colaboratory.intrinsic+json": {
              "type": "string"
            },
            "text/plain": [
              "'Coat'"
            ]
          },
          "metadata": {
            "tags": []
          },
          "execution_count": 35
        }
      ]
    },
    {
      "cell_type": "markdown",
      "metadata": {
        "id": "lCsXs9xKtxKM"
      },
      "source": [
        "# Creating Model using Sequential API"
      ]
    },
    {
      "cell_type": "code",
      "metadata": {
        "id": "6I3ETbJct3G_"
      },
      "source": [
        "# Creates a model using sequential API.\r\n",
        "model = keras.models.Sequential() "
      ],
      "execution_count": 36,
      "outputs": []
    },
    {
      "cell_type": "markdown",
      "metadata": {
        "id": "qln9LkPF7PuC"
      },
      "source": [
        "### Adding Input Layer"
      ]
    },
    {
      "cell_type": "code",
      "metadata": {
        "id": "YJ9Riq92v8KY"
      },
      "source": [
        "# Add the first Input layer to the model.\r\n",
        "model.add(keras.layers.Flatten(input_shape=[28,28])) # Flattens a img of (28,28) to 1d array , as it computes , img.reshape(-1,1)"
      ],
      "execution_count": 37,
      "outputs": []
    },
    {
      "cell_type": "markdown",
      "metadata": {
        "id": "kWf93ob9wUM-"
      },
      "source": [
        "### Adding Hidden layers:"
      ]
    },
    {
      "cell_type": "markdown",
      "metadata": {
        "id": "GkniqCrpwdrC"
      },
      "source": [
        "##### Adding first hidden layer:"
      ]
    },
    {
      "cell_type": "code",
      "metadata": {
        "id": "tLhOagECv_mB"
      },
      "source": [
        "model.add(keras.layers.Dense(300, activation=\"relu\")) # hidden layer with 300 neurons and their activation=Relu"
      ],
      "execution_count": 38,
      "outputs": []
    },
    {
      "cell_type": "markdown",
      "metadata": {
        "id": "nMKm3_dY6t_U"
      },
      "source": [
        "##### Adding 2nd hidden layer"
      ]
    },
    {
      "cell_type": "code",
      "metadata": {
        "id": "e7FGeLfV6tK-"
      },
      "source": [
        "model.add(keras.layers.Dense(200, activation='relu')) # hidden layer with 100 neurons and their activation=Relu"
      ],
      "execution_count": 39,
      "outputs": []
    },
    {
      "cell_type": "markdown",
      "metadata": {
        "id": "UtOJTBZ65fY1"
      },
      "source": [
        "##### Adding 3rd hidden layer:"
      ]
    },
    {
      "cell_type": "code",
      "metadata": {
        "id": "nYir02O55lJb"
      },
      "source": [
        "model.add(keras.layers.Dense(100, activation='relu')) #hidden layer with 200 neurons and their activation=Relu"
      ],
      "execution_count": 40,
      "outputs": []
    },
    {
      "cell_type": "markdown",
      "metadata": {
        "id": "WGiiNh717r18"
      },
      "source": [
        "##### Adding 4th hidden layer:"
      ]
    },
    {
      "cell_type": "code",
      "metadata": {
        "id": "jx0vfAbX7wpP"
      },
      "source": [
        "model.add(keras.layers.Dense(50, activation='relu')) #hidden layer with 50 neurons and their activation=Relu"
      ],
      "execution_count": 41,
      "outputs": []
    },
    {
      "cell_type": "markdown",
      "metadata": {
        "id": "bGMa22Er6-30"
      },
      "source": [
        "### Adding Output Layer"
      ]
    },
    {
      "cell_type": "code",
      "metadata": {
        "id": "wIodmbOu7DUE"
      },
      "source": [
        "model.add(keras.layers.Dense(10, activation=\"softmax\")) # neurons=10 -> 1 per class, and activation='softmax' as classes are exclusive"
      ],
      "execution_count": 42,
      "outputs": []
    },
    {
      "cell_type": "code",
      "metadata": {
        "colab": {
          "base_uri": "https://localhost:8080/",
          "height": 69
        },
        "id": "MhZIVR7b9Td_",
        "outputId": "a13dc240-4f23-47c4-d824-d1e777637f3e"
      },
      "source": [
        "\"\"\"\r\n",
        "Instead of adding the layers one by one as we just did, you can pass a list of layers\r\n",
        "when creating the Sequential model:\r\n",
        "\r\n",
        "model = keras.models.Sequential([\r\n",
        " keras.layers.Flatten(input_shape=[28, 28]),\r\n",
        " keras.layers.Dense(300, activation=\"relu\"),\r\n",
        " keras.layers.Dense(100, activation=\"relu\"),\r\n",
        " keras.layers.Dense(10, activation=\"softmax\")\r\n",
        "])\r\n",
        "\"\"\""
      ],
      "execution_count": 43,
      "outputs": [
        {
          "output_type": "execute_result",
          "data": {
            "application/vnd.google.colaboratory.intrinsic+json": {
              "type": "string"
            },
            "text/plain": [
              "'\\nInstead of adding the layers one by one as we just did, you can pass a list of layers\\nwhen creating the Sequential model:\\n\\nmodel = keras.models.Sequential([\\n keras.layers.Flatten(input_shape=[28, 28]),\\n keras.layers.Dense(300, activation=\"relu\"),\\n keras.layers.Dense(100, activation=\"relu\"),\\n keras.layers.Dense(10, activation=\"softmax\")\\n])\\n'"
            ]
          },
          "metadata": {
            "tags": []
          },
          "execution_count": 43
        }
      ]
    },
    {
      "cell_type": "markdown",
      "metadata": {
        "id": "LPSUi5PA-ED7"
      },
      "source": [
        "# Keras: model methods for accessing layers and set/get their weights: "
      ]
    },
    {
      "cell_type": "code",
      "metadata": {
        "colab": {
          "base_uri": "https://localhost:8080/",
          "height": 392
        },
        "id": "hG9gtlCD-STD",
        "outputId": "1215c906-37de-48bd-d916-867aa8db1192"
      },
      "source": [
        "# model.summary(): gives the summary of model\r\n",
        "model.summary()\r\n",
        "\r\n",
        "\"\"\"\r\n",
        "Note that Dense layers often have a lot of parameters. For example, the first hidden\r\n",
        "layer has 784 × 300 connection weights, plus 300 bias terms, which adds up to\r\n",
        "235,500 parameters!\r\n",
        "\"\"\""
      ],
      "execution_count": 44,
      "outputs": [
        {
          "output_type": "stream",
          "text": [
            "Model: \"sequential_1\"\n",
            "_________________________________________________________________\n",
            "Layer (type)                 Output Shape              Param #   \n",
            "=================================================================\n",
            "flatten_1 (Flatten)          (None, 784)               0         \n",
            "_________________________________________________________________\n",
            "dense_4 (Dense)              (None, 300)               235500    \n",
            "_________________________________________________________________\n",
            "dense_5 (Dense)              (None, 200)               60200     \n",
            "_________________________________________________________________\n",
            "dense_6 (Dense)              (None, 100)               20100     \n",
            "_________________________________________________________________\n",
            "dense_7 (Dense)              (None, 50)                5050      \n",
            "_________________________________________________________________\n",
            "dense_8 (Dense)              (None, 10)                510       \n",
            "=================================================================\n",
            "Total params: 321,360\n",
            "Trainable params: 321,360\n",
            "Non-trainable params: 0\n",
            "_________________________________________________________________\n"
          ],
          "name": "stdout"
        },
        {
          "output_type": "execute_result",
          "data": {
            "application/vnd.google.colaboratory.intrinsic+json": {
              "type": "string"
            },
            "text/plain": [
              "'\\nNote that Dense layers often have a lot of parameters. For example, the first hidden\\nlayer has 784 × 300 connection weights, plus 300 bias terms, which adds up to\\n235,500 parameters!\\n'"
            ]
          },
          "metadata": {
            "tags": []
          },
          "execution_count": 44
        }
      ]
    },
    {
      "cell_type": "code",
      "metadata": {
        "colab": {
          "base_uri": "https://localhost:8080/"
        },
        "id": "d96itTYw_KG1",
        "outputId": "6f28110f-cf8e-422d-be91-98362695245f"
      },
      "source": [
        "# model.layer: gives us the list of model layers\r\n",
        "model.layers\r\n",
        "\r\n",
        "# Indexing layers :\r\n",
        "model.layers[1]\r\n",
        "\r\n",
        "# for other tweaks and tricks refer book."
      ],
      "execution_count": 45,
      "outputs": [
        {
          "output_type": "execute_result",
          "data": {
            "text/plain": [
              "<tensorflow.python.keras.layers.core.Dense at 0x7f19b9b9a5c0>"
            ]
          },
          "metadata": {
            "tags": []
          },
          "execution_count": 45
        }
      ]
    },
    {
      "cell_type": "markdown",
      "metadata": {
        "id": "o01bOe8hAKx0"
      },
      "source": [
        "# Compiling the  Model"
      ]
    },
    {
      "cell_type": "code",
      "metadata": {
        "colab": {
          "base_uri": "https://localhost:8080/",
          "height": 103
        },
        "id": "ZjnTQyt-AKJE",
        "outputId": "95a6c490-87d2-45a4-f092-02fc70b8c661"
      },
      "source": [
        "# After a model is created, you must call its compile() method to specify the loss function and the optimizer to use.\r\n",
        "# Optionally, you can also specify a list of extra metrics to compute during training and evaluation:\r\n",
        "\r\n",
        "model.compile(\r\n",
        "    loss=\"sparse_categorical_crossentropy\",\r\n",
        "    optimizer='sgd',\r\n",
        "    metrics=['accuracy'])\r\n",
        "\r\n",
        "\"\"\"\r\n",
        "First, we use the \"sparse_categorical_crossen\r\n",
        "tropy\" loss because we have sparse labels (i.e., for each instance there is just a target\r\n",
        "class index, from 0 to 9 in this case), and the classes are exclusive. If instead we had\r\n",
        "one target probability per class for each instance (such as one-hot vectors, e.g. [0.,\r\n",
        "0., 0., 1., 0., 0., 0., 0., 0., 0.] to represent class 3), then we would need\r\n",
        "to use the \"categorical_crossentropy\" loss instead. If we were doing binary classi‐\r\n",
        "fication (with one or more binary labels), then we would use the \"sigmoid\" (i.e.,\r\n",
        "logistic) activation function in the output layer instead of the \"softmax\" activation\r\n",
        "function, and we would use the \"binary_crossentropy\" loss.\r\n",
        "\"\"\""
      ],
      "execution_count": 46,
      "outputs": [
        {
          "output_type": "execute_result",
          "data": {
            "application/vnd.google.colaboratory.intrinsic+json": {
              "type": "string"
            },
            "text/plain": [
              "'\\nFirst, we use the \"sparse_categorical_crossen\\ntropy\" loss because we have sparse labels (i.e., for each instance there is just a target\\nclass index, from 0 to 9 in this case), and the classes are exclusive. If instead we had\\none target probability per class for each instance (such as one-hot vectors, e.g. [0.,\\n0., 0., 1., 0., 0., 0., 0., 0., 0.] to represent class 3), then we would need\\nto use the \"categorical_crossentropy\" loss instead. If we were doing binary classi‐\\nfication (with one or more binary labels), then we would use the \"sigmoid\" (i.e.,\\nlogistic) activation function in the output layer instead of the \"softmax\" activation\\nfunction, and we would use the \"binary_crossentropy\" loss.\\n'"
            ]
          },
          "metadata": {
            "tags": []
          },
          "execution_count": 46
        }
      ]
    },
    {
      "cell_type": "markdown",
      "metadata": {
        "id": "RaVBwxJrCH8q"
      },
      "source": [
        "# Training and Evaluating the Model"
      ]
    },
    {
      "cell_type": "code",
      "metadata": {
        "colab": {
          "base_uri": "https://localhost:8080/"
        },
        "id": "1rYKZSdwCiXX",
        "outputId": "b618fd00-7728-4af4-b880-f6f25fc02dd2"
      },
      "source": [
        "# model.fit(): fit() method is used to train the model.\r\n",
        "history = model.fit(X_train, y_train, epochs=50, validation_data=(X_valid, y_valid), batch_size=64)"
      ],
      "execution_count": 47,
      "outputs": [
        {
          "output_type": "stream",
          "text": [
            "Epoch 1/50\n",
            "860/860 [==============================] - 5s 6ms/step - loss: 1.4114 - accuracy: 0.5312 - val_loss: 0.6096 - val_accuracy: 0.7870\n",
            "Epoch 2/50\n",
            "860/860 [==============================] - 5s 6ms/step - loss: 0.5809 - accuracy: 0.7931 - val_loss: 0.4811 - val_accuracy: 0.8364\n",
            "Epoch 3/50\n",
            "860/860 [==============================] - 5s 6ms/step - loss: 0.5011 - accuracy: 0.8252 - val_loss: 0.4465 - val_accuracy: 0.8470\n",
            "Epoch 4/50\n",
            "860/860 [==============================] - 5s 6ms/step - loss: 0.4670 - accuracy: 0.8343 - val_loss: 0.4341 - val_accuracy: 0.8480\n",
            "Epoch 5/50\n",
            "860/860 [==============================] - 5s 6ms/step - loss: 0.4388 - accuracy: 0.8448 - val_loss: 0.5857 - val_accuracy: 0.7708\n",
            "Epoch 6/50\n",
            "860/860 [==============================] - 5s 6ms/step - loss: 0.4126 - accuracy: 0.8542 - val_loss: 0.4936 - val_accuracy: 0.8206\n",
            "Epoch 7/50\n",
            "860/860 [==============================] - 5s 6ms/step - loss: 0.3987 - accuracy: 0.8561 - val_loss: 0.3831 - val_accuracy: 0.8628\n",
            "Epoch 8/50\n",
            "860/860 [==============================] - 5s 6ms/step - loss: 0.3810 - accuracy: 0.8644 - val_loss: 0.4057 - val_accuracy: 0.8572\n",
            "Epoch 9/50\n",
            "860/860 [==============================] - 5s 6ms/step - loss: 0.3679 - accuracy: 0.8684 - val_loss: 0.3704 - val_accuracy: 0.8674\n",
            "Epoch 10/50\n",
            "860/860 [==============================] - 5s 6ms/step - loss: 0.3628 - accuracy: 0.8705 - val_loss: 0.3637 - val_accuracy: 0.8702\n",
            "Epoch 11/50\n",
            "860/860 [==============================] - 5s 6ms/step - loss: 0.3509 - accuracy: 0.8740 - val_loss: 0.3499 - val_accuracy: 0.8736\n",
            "Epoch 12/50\n",
            "860/860 [==============================] - 5s 6ms/step - loss: 0.3382 - accuracy: 0.8796 - val_loss: 0.3804 - val_accuracy: 0.8592\n",
            "Epoch 13/50\n",
            "860/860 [==============================] - 5s 6ms/step - loss: 0.3285 - accuracy: 0.8813 - val_loss: 0.3504 - val_accuracy: 0.8734\n",
            "Epoch 14/50\n",
            "860/860 [==============================] - 5s 6ms/step - loss: 0.3195 - accuracy: 0.8852 - val_loss: 0.3389 - val_accuracy: 0.8768\n",
            "Epoch 15/50\n",
            "860/860 [==============================] - 5s 6ms/step - loss: 0.3119 - accuracy: 0.8864 - val_loss: 0.3630 - val_accuracy: 0.8704\n",
            "Epoch 16/50\n",
            "860/860 [==============================] - 5s 6ms/step - loss: 0.3066 - accuracy: 0.8882 - val_loss: 0.3323 - val_accuracy: 0.8812\n",
            "Epoch 17/50\n",
            "860/860 [==============================] - 5s 6ms/step - loss: 0.2976 - accuracy: 0.8921 - val_loss: 0.3248 - val_accuracy: 0.8822\n",
            "Epoch 18/50\n",
            "860/860 [==============================] - 5s 6ms/step - loss: 0.2924 - accuracy: 0.8909 - val_loss: 0.3218 - val_accuracy: 0.8846\n",
            "Epoch 19/50\n",
            "860/860 [==============================] - 5s 6ms/step - loss: 0.2894 - accuracy: 0.8939 - val_loss: 0.3516 - val_accuracy: 0.8750\n",
            "Epoch 20/50\n",
            "860/860 [==============================] - 5s 6ms/step - loss: 0.2794 - accuracy: 0.8976 - val_loss: 0.3191 - val_accuracy: 0.8862\n",
            "Epoch 21/50\n",
            "860/860 [==============================] - 5s 6ms/step - loss: 0.2770 - accuracy: 0.8993 - val_loss: 0.3194 - val_accuracy: 0.8844\n",
            "Epoch 22/50\n",
            "860/860 [==============================] - 5s 6ms/step - loss: 0.2718 - accuracy: 0.9019 - val_loss: 0.3168 - val_accuracy: 0.8864\n",
            "Epoch 23/50\n",
            "860/860 [==============================] - 5s 6ms/step - loss: 0.2674 - accuracy: 0.9020 - val_loss: 0.3198 - val_accuracy: 0.8832\n",
            "Epoch 24/50\n",
            "860/860 [==============================] - 5s 6ms/step - loss: 0.2624 - accuracy: 0.9037 - val_loss: 0.3752 - val_accuracy: 0.8612\n",
            "Epoch 25/50\n",
            "860/860 [==============================] - 5s 5ms/step - loss: 0.2543 - accuracy: 0.9074 - val_loss: 0.3186 - val_accuracy: 0.8888\n",
            "Epoch 26/50\n",
            "860/860 [==============================] - 5s 6ms/step - loss: 0.2483 - accuracy: 0.9094 - val_loss: 0.3150 - val_accuracy: 0.8910\n",
            "Epoch 27/50\n",
            "860/860 [==============================] - 5s 6ms/step - loss: 0.2480 - accuracy: 0.9095 - val_loss: 0.3390 - val_accuracy: 0.8808\n",
            "Epoch 28/50\n",
            "860/860 [==============================] - 5s 6ms/step - loss: 0.2433 - accuracy: 0.9109 - val_loss: 0.3189 - val_accuracy: 0.8840\n",
            "Epoch 29/50\n",
            "860/860 [==============================] - 5s 6ms/step - loss: 0.2333 - accuracy: 0.9140 - val_loss: 0.3212 - val_accuracy: 0.8858\n",
            "Epoch 30/50\n",
            "860/860 [==============================] - 5s 6ms/step - loss: 0.2346 - accuracy: 0.9161 - val_loss: 0.3523 - val_accuracy: 0.8758\n",
            "Epoch 31/50\n",
            "860/860 [==============================] - 5s 6ms/step - loss: 0.2279 - accuracy: 0.9168 - val_loss: 0.3069 - val_accuracy: 0.8880\n",
            "Epoch 32/50\n",
            "860/860 [==============================] - 5s 6ms/step - loss: 0.2260 - accuracy: 0.9187 - val_loss: 0.3141 - val_accuracy: 0.8914\n",
            "Epoch 33/50\n",
            "860/860 [==============================] - 5s 6ms/step - loss: 0.2209 - accuracy: 0.9204 - val_loss: 0.3088 - val_accuracy: 0.8892\n",
            "Epoch 34/50\n",
            "860/860 [==============================] - 5s 6ms/step - loss: 0.2195 - accuracy: 0.9195 - val_loss: 0.3006 - val_accuracy: 0.8930\n",
            "Epoch 35/50\n",
            "860/860 [==============================] - 5s 6ms/step - loss: 0.2138 - accuracy: 0.9217 - val_loss: 0.3279 - val_accuracy: 0.8878\n",
            "Epoch 36/50\n",
            "860/860 [==============================] - 5s 6ms/step - loss: 0.2085 - accuracy: 0.9234 - val_loss: 0.3276 - val_accuracy: 0.8842\n",
            "Epoch 37/50\n",
            "860/860 [==============================] - 5s 6ms/step - loss: 0.2094 - accuracy: 0.9230 - val_loss: 0.3172 - val_accuracy: 0.8900\n",
            "Epoch 38/50\n",
            "860/860 [==============================] - 5s 6ms/step - loss: 0.1994 - accuracy: 0.9265 - val_loss: 0.3724 - val_accuracy: 0.8616\n",
            "Epoch 39/50\n",
            "860/860 [==============================] - 5s 5ms/step - loss: 0.2031 - accuracy: 0.9260 - val_loss: 0.3370 - val_accuracy: 0.8782\n",
            "Epoch 40/50\n",
            "860/860 [==============================] - 5s 6ms/step - loss: 0.1968 - accuracy: 0.9291 - val_loss: 0.3042 - val_accuracy: 0.8918\n",
            "Epoch 41/50\n",
            "860/860 [==============================] - 5s 6ms/step - loss: 0.1923 - accuracy: 0.9298 - val_loss: 0.2961 - val_accuracy: 0.8942\n",
            "Epoch 42/50\n",
            "860/860 [==============================] - 5s 6ms/step - loss: 0.1943 - accuracy: 0.9292 - val_loss: 0.3034 - val_accuracy: 0.8940\n",
            "Epoch 43/50\n",
            "860/860 [==============================] - 5s 6ms/step - loss: 0.1891 - accuracy: 0.9318 - val_loss: 0.3132 - val_accuracy: 0.8908\n",
            "Epoch 44/50\n",
            "860/860 [==============================] - 5s 6ms/step - loss: 0.1843 - accuracy: 0.9351 - val_loss: 0.3103 - val_accuracy: 0.8918\n",
            "Epoch 45/50\n",
            "860/860 [==============================] - 5s 6ms/step - loss: 0.1804 - accuracy: 0.9357 - val_loss: 0.3295 - val_accuracy: 0.8904\n",
            "Epoch 46/50\n",
            "860/860 [==============================] - 5s 6ms/step - loss: 0.1800 - accuracy: 0.9365 - val_loss: 0.3030 - val_accuracy: 0.8970\n",
            "Epoch 47/50\n",
            "860/860 [==============================] - 5s 6ms/step - loss: 0.1711 - accuracy: 0.9404 - val_loss: 0.3139 - val_accuracy: 0.8946\n",
            "Epoch 48/50\n",
            "860/860 [==============================] - 5s 6ms/step - loss: 0.1601 - accuracy: 0.9434 - val_loss: 0.3058 - val_accuracy: 0.8962\n",
            "Epoch 49/50\n",
            "860/860 [==============================] - 5s 6ms/step - loss: 0.1629 - accuracy: 0.9413 - val_loss: 0.3982 - val_accuracy: 0.8680\n",
            "Epoch 50/50\n",
            "860/860 [==============================] - 5s 6ms/step - loss: 0.1628 - accuracy: 0.9412 - val_loss: 0.3341 - val_accuracy: 0.8850\n"
          ],
          "name": "stdout"
        }
      ]
    },
    {
      "cell_type": "markdown",
      "metadata": {
        "id": "YCYttdMfFLaT"
      },
      "source": [
        "## Plotting the learning curves:"
      ]
    },
    {
      "cell_type": "code",
      "metadata": {
        "colab": {
          "base_uri": "https://localhost:8080/",
          "height": 324
        },
        "id": "dh_kSx_mFKvS",
        "outputId": "e79a427e-8cf3-4af9-8b6a-3e3701d20e79"
      },
      "source": [
        "import pandas as pd\r\n",
        "import matplotlib.pyplot as plt\r\n",
        "\r\n",
        "pd.DataFrame(history.history).plot(figsize=(8, 5))\r\n",
        "plt.grid(True)\r\n",
        "plt.gca().set_ylim(0, 1) # set the vertical range to [0-1]\r\n",
        "plt.show()\r\n"
      ],
      "execution_count": 48,
      "outputs": [
        {
          "output_type": "display_data",
          "data": {
            "image/png": "[encoded data removed]",
            "text/plain": [
              "<Figure size 576x360 with 1 Axes>"
            ]
          },
          "metadata": {
            "tags": [],
            "needs_background": "light"
          }
        }
      ]
    },
    {
      "cell_type": "markdown",
      "metadata": {
        "id": "qNVDLya-ItYo"
      },
      "source": [
        "# Evaluating the model's peroformance for test_dset"
      ]
    },
    {
      "cell_type": "code",
      "metadata": {
        "colab": {
          "base_uri": "https://localhost:8080/"
        },
        "id": "df76kGH9Isqp",
        "outputId": "6571495b-dcc2-4660-9e3a-5f206b10bd08"
      },
      "source": [
        "# use model.evaluate();\r\n",
        "model.evaluate(X_test, y_test)"
      ],
      "execution_count": 49,
      "outputs": [
        {
          "output_type": "stream",
          "text": [
            "313/313 [==============================] - 1s 3ms/step - loss: 73.1649 - accuracy: 0.8422\n"
          ],
          "name": "stdout"
        },
        {
          "output_type": "execute_result",
          "data": {
            "text/plain": [
              "[73.16486358642578, 0.842199981212616]"
            ]
          },
          "metadata": {
            "tags": []
          },
          "execution_count": 49
        }
      ]
    },
    {
      "cell_type": "markdown",
      "metadata": {
        "id": "zs_2XuFUJHep"
      },
      "source": [
        "# Making Predictions using Model."
      ]
    },
    {
      "cell_type": "code",
      "metadata": {
        "colab": {
          "base_uri": "https://localhost:8080/"
        },
        "id": "zmwGwY7rJMbM",
        "outputId": "ec74662b-8a8e-43f7-fe44-7ac04912bd64"
      },
      "source": [
        "# using model.predict();\r\n",
        "\r\n",
        "X_new = X_test[:3]\r\n",
        "y_pred = model.predict(X_new).round(2) # round to 2 decimals.\r\n",
        "y_pred\r\n",
        "# this will return class label-index"
      ],
      "execution_count": 50,
      "outputs": [
        {
          "output_type": "execute_result",
          "data": {
            "text/plain": [
              "array([[0., 0., 0., 0., 0., 0., 0., 0., 0., 1.],\n",
              "       [0., 0., 1., 0., 0., 0., 0., 0., 0., 0.],\n",
              "       [0., 1., 0., 0., 0., 0., 0., 0., 0., 0.]], dtype=float32)"
            ]
          },
          "metadata": {
            "tags": []
          },
          "execution_count": 50
        }
      ]
    },
    {
      "cell_type": "code",
      "metadata": {
        "colab": {
          "base_uri": "https://localhost:8080/"
        },
        "id": "N0547PJIK_V_",
        "outputId": "a22af987-4fac-4a43-e92f-635267fa9db9"
      },
      "source": [
        "#  If we only care about classes with highest probability, we can use model.predict_classes() method.\r\n",
        "import numpy as np\r\n",
        "\r\n",
        "y_pred = model.predict_classes(X_new)\r\n",
        "print(y_pred)\r\n",
        "np.array(class_names)[y_pred]"
      ],
      "execution_count": 51,
      "outputs": [
        {
          "output_type": "stream",
          "text": [
            "[9 2 1]\n"
          ],
          "name": "stdout"
        },
        {
          "output_type": "stream",
          "text": [
            "/usr/local/lib/python3.6/dist-packages/tensorflow/python/keras/engine/sequential.py:450: UserWarning: `model.predict_classes()` is deprecated and will be removed after 2021-01-01. Please use instead:* `np.argmax(model.predict(x), axis=-1)`,   if your model does multi-class classification   (e.g. if it uses a `softmax` last-layer activation).* `(model.predict(x) > 0.5).astype(\"int32\")`,   if your model does binary classification   (e.g. if it uses a `sigmoid` last-layer activation).\n",
            "  warnings.warn('`model.predict_classes()` is deprecated and '\n"
          ],
          "name": "stderr"
        },
        {
          "output_type": "execute_result",
          "data": {
            "text/plain": [
              "array(['Ankle boot', 'Pullover', 'Trouser'], dtype='<U11')"
            ]
          },
          "metadata": {
            "tags": []
          },
          "execution_count": 51
        }
      ]
    },
    {
      "cell_type": "code",
      "metadata": {
        "colab": {
          "base_uri": "https://localhost:8080/"
        },
        "id": "QC2bb_DKKm9U",
        "outputId": "013ca749-8b39-4949-81f4-0eb332325c48"
      },
      "source": [
        "# lets check if y_pred matches with the true labels/classes or not\r\n",
        "y_new = y_test[:3]\r\n",
        "print(y_new)\r\n",
        "np.array(class_names)[y_new]"
      ],
      "execution_count": 52,
      "outputs": [
        {
          "output_type": "stream",
          "text": [
            "[9 2 1]\n"
          ],
          "name": "stdout"
        },
        {
          "output_type": "execute_result",
          "data": {
            "text/plain": [
              "array(['Ankle boot', 'Pullover', 'Trouser'], dtype='<U11')"
            ]
          },
          "metadata": {
            "tags": []
          },
          "execution_count": 52
        }
      ]
    }
  ]
}